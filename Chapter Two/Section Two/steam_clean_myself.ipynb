{
 "nbformat": 4,
 "nbformat_minor": 2,
 "metadata": {
  "language_info": {
   "name": "python",
   "codemirror_mode": {
    "name": "ipython",
    "version": 3
   },
   "version": "3.7.4-final"
  },
  "orig_nbformat": 2,
  "file_extension": ".py",
  "mimetype": "text/x-python",
  "name": "python",
  "npconvert_exporter": "python",
  "pygments_lexer": "ipython3",
  "version": 3,
  "kernelspec": {
   "name": "python37464bitbaseconda68d4c1b18059495ab3f7b8c839aeb166",
   "display_name": "Python 3.7.4 64-bit ('base': conda)"
  }
 },
 "cells": [
  {
   "cell_type": "code",
   "execution_count": 1,
   "metadata": {},
   "outputs": [],
   "source": [
    "import numpy as np\n",
    "import pandas as pd\n",
    "import random"
   ]
  },
  {
   "cell_type": "code",
   "execution_count": 2,
   "metadata": {},
   "outputs": [
    {
     "name": "stdout",
     "output_type": "stream",
     "text": "UserID                        Game    Action  Hours  Not Needed\n0       151603712  The Elder Scrolls V Skyrim  purchase    1.0           0\n1       151603712  The Elder Scrolls V Skyrim      play  273.0           0\n2       151603712                   Fallout 4  purchase    1.0           0\n3       151603712                   Fallout 4      play   87.0           0\n4       151603712                       Spore  purchase    1.0           0\n...           ...                         ...       ...    ...         ...\n199995  128470551                 Titan Souls      play    1.5           0\n199996  128470551  Grand Theft Auto Vice City  purchase    1.0           0\n199997  128470551  Grand Theft Auto Vice City      play    1.5           0\n199998  128470551                        RUSH  purchase    1.0           0\n199999  128470551                        RUSH      play    1.4           0\n\n[200000 rows x 5 columns]\n"
    }
   ],
   "source": [
    "path = 'steam-200k.csv'\n",
    "df = pd.read_csv(path,header=None,names=['UserID', 'Game', 'Action', 'Hours', 'Not Needed'])\n",
    "print(df)"
   ]
  },
  {
   "cell_type": "code",
   "execution_count": 3,
   "metadata": {},
   "outputs": [
    {
     "name": "stdout",
     "output_type": "stream",
     "text": "UserID                          Game  Hours_Played\n65430        5250                   Alien Swarm           4.9\n65424        5250               Cities Skylines         144.0\n65435        5250                Counter-Strike           0.0\n65436        5250         Counter-Strike Source           0.0\n65437        5250                 Day of Defeat           0.0\n...           ...                           ...           ...\n18803   309626088  Age of Empires II HD Edition           6.7\n170024  309812026  Counter-Strike Nexon Zombies           0.0\n170025  309812026                     Robocraft           0.0\n10222   309824202                        Dota 2           0.7\n129085  309903146                        Dota 2           0.2\n\n[128804 rows x 3 columns]\n"
    }
   ],
   "source": [
    "df['Hours_Played'] = df['Hours'].astype('float32')\n",
    "df.loc[(df['Action'] == 'purchase') & (df['Hours'] == 1.0),'Hours_Played'] = 0\n",
    "df = df.sort_values(['UserID','Game','Hours_Played'],ascending=True)\n",
    "clean_df = df.drop_duplicates(['UserID','Game'],keep='last')\n",
    "clean_df = clean_df.drop(['Action','Hours','Not Needed'],axis=1)\n",
    "print(clean_df)"
   ]
  },
  {
   "cell_type": "code",
   "execution_count": 4,
   "metadata": {},
   "outputs": [
    {
     "name": "stdout",
     "output_type": "stream",
     "text": "数据集中包含了 12393 玩家，5155 游戏\n"
    }
   ],
   "source": [
    "n_users = len(clean_df.UserID.unique())\n",
    "n_games = len(clean_df.Game.unique())\n",
    "print('数据集中包含了 {0} 玩家，{1} 游戏'.format(n_users, n_games))"
   ]
  },
  {
   "cell_type": "code",
   "execution_count": 5,
   "metadata": {},
   "outputs": [
    {
     "name": "stdout",
     "output_type": "stream",
     "text": "用户行为矩阵的稀疏性（填充比例）为0.20% \n"
    }
   ],
   "source": [
    "# 矩阵的稀疏性\n",
    "sparsity = clean_df.shape[0] / float(n_users * n_games)\n",
    "print('用户行为矩阵的稀疏性（填充比例）为{:.2%} '.format(sparsity))"
   ]
  },
  {
   "cell_type": "code",
   "execution_count": null,
   "metadata": {},
   "outputs": [],
   "source": []
  }
 ]
}