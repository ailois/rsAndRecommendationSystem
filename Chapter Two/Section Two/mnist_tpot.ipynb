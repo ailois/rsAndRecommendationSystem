{
 "nbformat": 4,
 "nbformat_minor": 2,
 "metadata": {
  "language_info": {
   "name": "python",
   "codemirror_mode": {
    "name": "ipython",
    "version": 3
   },
   "version": "3.7.4-final"
  },
  "orig_nbformat": 2,
  "file_extension": ".py",
  "mimetype": "text/x-python",
  "name": "python",
  "npconvert_exporter": "python",
  "pygments_lexer": "ipython3",
  "version": 3,
  "kernelspec": {
   "name": "python37464bitbaseconda68d4c1b18059495ab3f7b8c839aeb166",
   "display_name": "Python 3.7.4 64-bit ('base': conda)"
  }
 },
 "cells": [
  {
   "cell_type": "code",
   "execution_count": 1,
   "metadata": {},
   "outputs": [],
   "source": [
    "# 使用TPOT自动机器学习工具对MNIST进行分类\n",
    "from tpot import TPOTClassifier\n",
    "from sklearn.datasets import load_digits\n",
    "from sklearn.model_selection import train_test_split\n",
    "import numpy as np"
   ]
  },
  {
   "cell_type": "code",
   "execution_count": 2,
   "metadata": {},
   "outputs": [
    {
     "name": "stdout",
     "output_type": "stream",
     "text": "[0 1 2 ... 8 9 8]\nD:\\software\\Anaconda3\\lib\\importlib\\_bootstrap.py:219: RuntimeWarning: numpy.ufunc size changed, may indicate binary incompatibility. Expected 192 from C header, got 216 from PyObject\n  return f(*args, **kwds)\nOptimization Progress:  33%|███▎      | 40/120 [01:01<00:44,  1.80pipeline/s]Generation 1 - Current best internal CV score: 0.9666033319564917\nOptimization Progress:  50%|█████     | 60/120 [02:24<02:40,  2.67s/pipeline]Generation 2 - Current best internal CV score: 0.9680848134379734\nOptimization Progress:  67%|██████▋   | 80/120 [03:13<03:05,  4.64s/pipeline]Generation 3 - Current best internal CV score: 0.9710615448161917\nOptimization Progress:  84%|████████▍ | 101/120 [14:50<10:42, 33.80s/pipeline]Generation 4 - Current best internal CV score: 0.9732810133553628\nOptimization Progress: 121pipeline [16:21,  2.72s/pipeline]Generation 5 - Current best internal CV score: 0.9732810133553628\nOptimization Progress: 121pipeline [16:21,  2.72s/pipeline]\nBest pipeline:SGDClassifier(DecisionTreeClassifier(PolynomialFeatures(input_matrix, degree=2, include_bias=False, interaction_only=False), criterion=gini, max_depth=10, min_samples_leaf=15, min_samples_split=4), alpha=0.0, eta0=0.1, fit_intercept=True, l1_ratio=0.5, learning_rate=constant, loss=perceptron, penalty=elasticnet, power_t=0.0)\n0.9844444444444445\n"
    }
   ],
   "source": [
    "# 加载数据\n",
    "digits = load_digits()\n",
    "data = digits.data\n",
    "print(digits.target)\n",
    "X_train,X_test,Y_train,y_test = train_test_split(data.astype(np.float64),\n",
    "                        digits.target.astype(np.float64),train_size=0.75,test_size=0.25)\n",
    "\n",
    "tpot = TPOTClassifier(generations=5,population_size=20,verbosity=2)\n",
    "tpot.fit(X_train,Y_train)\n",
    "print(tpot.score(X_test,y_test))\n"
   ]
  },
  {
   "cell_type": "code",
   "execution_count": null,
   "metadata": {},
   "outputs": [],
   "source": []
  }
 ]
}