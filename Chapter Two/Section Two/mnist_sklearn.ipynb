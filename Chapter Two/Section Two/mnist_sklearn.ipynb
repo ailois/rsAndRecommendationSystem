{
 "nbformat": 4,
 "nbformat_minor": 2,
 "metadata": {
  "language_info": {
   "name": "python",
   "codemirror_mode": {
    "name": "ipython",
    "version": 3
   },
   "version": "3.7.4-final"
  },
  "orig_nbformat": 2,
  "file_extension": ".py",
  "mimetype": "text/x-python",
  "name": "python",
  "npconvert_exporter": "python",
  "pygments_lexer": "ipython3",
  "version": 3,
  "kernelspec": {
   "name": "python37464bitbaseconda68d4c1b18059495ab3f7b8c839aeb166",
   "display_name": "Python 3.7.4 64-bit ('base': conda)"
  }
 },
 "cells": [
  {
   "cell_type": "code",
   "execution_count": 1,
   "metadata": {},
   "outputs": [],
   "source": [
    "# _*_ coding: utf-8 _*_\n",
    "# 使用多种分类器进行MNIST手写数字分类\n",
    "from sklearn.model_selection import train_test_split\n",
    "from sklearn import preprocessing\n",
    "from sklearn.metrics import accuracy_score\n",
    "from sklearn.datasets import load_digits\n",
    "from sklearn import svm #SVM\n",
    "from sklearn.linear_model import LogisticRegression #逻辑回归\n",
    "from sklearn.tree import DecisionTreeClassifier #决策树\n",
    "from sklearn.naive_bayes import GaussianNB,MultinomialNB,BernoulliNB #高斯朴素贝叶斯 GaussianNB/MultinomialNB/BernoulliNB\n",
    "from sklearn.neighbors import KNeighborsClassifier #KNN\n",
    "from sklearn.ensemble import AdaBoostClassifier #AdaBoost\n",
    "from xgboost import XGBClassifier #XGBoost\n",
    "from sklearn.discriminant_analysis import LinearDiscriminantAnalysis #线性判别分析"
   ]
  },
  {
   "cell_type": "code",
   "execution_count": 2,
   "metadata": {},
   "outputs": [
    {
     "name": "stdout",
     "output_type": "stream",
     "text": "(1797, 64)\n[[ 0.  0.  5. 13.  9.  1.  0.  0.]\n [ 0.  0. 13. 15. 10. 15.  5.  0.]\n [ 0.  3. 15.  2.  0. 11.  8.  0.]\n [ 0.  4. 12.  0.  0.  8.  8.  0.]\n [ 0.  5.  8.  0.  0.  9.  8.  0.]\n [ 0.  4. 11.  0.  1. 12.  7.  0.]\n [ 0.  2. 14.  5. 10. 12.  0.  0.]\n [ 0.  0.  6. 13. 10.  0.  0.  0.]]\n0\n"
    },
    {
     "data": {
      "text/plain": "'\\nplt.gray()\\nplt.imshow(digits.images[0])\\nplt.show()\\n'"
     },
     "execution_count": 2,
     "metadata": {},
     "output_type": "execute_result"
    }
   ],
   "source": [
    "# 加载数据\n",
    "digits = load_digits()\n",
    "data = digits.data\n",
    "# 数据探索\n",
    "print(data.shape)\n",
    "# 查看第一幅图像\n",
    "print(digits.images[0])\n",
    "# 第一幅图像代表的数字含义\n",
    "print(digits.target[0])\n",
    "# 将第一幅图像显示出来\n",
    "'''\n",
    "plt.gray()\n",
    "plt.imshow(digits.images[0])\n",
    "plt.show()\n",
    "'''\n"
   ]
  },
  {
   "cell_type": "code",
   "execution_count": 3,
   "metadata": {},
   "outputs": [
    {
     "name": "stdout",
     "output_type": "stream",
     "text": "16.0\n40971\n86208\n"
    }
   ],
   "source": [
    "# 分割数据,将25%的数据作为测试集,其余作为训练集\n",
    "train_x, test_x, train_y, test_y = train_test_split(data, digits.target, test_size=0.25, random_state=33)\n",
    "print(train_x.max())\n",
    "print((train_x>1).sum())\n",
    "print(train_x.shape[0]*train_x.shape[1])"
   ]
  },
  {
   "cell_type": "code",
   "execution_count": 4,
   "metadata": {},
   "outputs": [],
   "source": [
    "# 采用Z-Score规范化\n",
    "ss = preprocessing.StandardScaler()\n",
    "train_ss_x = ss.fit_transform(train_x)\n",
    "test_ss_x = ss.transform(test_x)"
   ]
  },
  {
   "cell_type": "code",
   "execution_count": 5,
   "metadata": {},
   "outputs": [
    {
     "name": "stdout",
     "output_type": "stream",
     "text": "LR准确率: 0.9600\n"
    }
   ],
   "source": [
    "# 创建LR分类器\n",
    "lr = LogisticRegression(solver='liblinear',multi_class='auto') #数据集比较小,使用liblinear,数据集大使用sag或者saga\n",
    "lr.fit(train_ss_x,train_y)\n",
    "predict_y = lr.predict(test_ss_x)\n",
    "print('LR准确率: %0.4lf' %accuracy_score(predict_y,test_y))"
   ]
  },
  {
   "cell_type": "code",
   "execution_count": 6,
   "metadata": {},
   "outputs": [
    {
     "name": "stdout",
     "output_type": "stream",
     "text": "CART决策树准确率: 0.8422\n"
    }
   ],
   "source": [
    "# 创建线性 CART决策树分类器\n",
    "model = DecisionTreeClassifier()\n",
    "model.fit(train_ss_x,train_y)\n",
    "predict_y = model.predict(test_ss_x)\n",
    "print('CART决策树准确率: %0.4lf' %accuracy_score(predict_y,test_y))"
   ]
  },
  {
   "cell_type": "code",
   "execution_count": 7,
   "metadata": {},
   "outputs": [
    {
     "name": "stdout",
     "output_type": "stream",
     "text": "LDA准确率: 0.9378\nD:\\software\\Anaconda3\\lib\\site-packages\\sklearn\\discriminant_analysis.py:388: UserWarning: Variables are collinear.\n  warnings.warn(\"Variables are collinear.\")\n"
    }
   ],
   "source": [
    "# 创建LDA分类器\n",
    "model = LinearDiscriminantAnalysis(n_components=2)\n",
    "model.fit(train_ss_x,train_y)\n",
    "predict_y = model.predict(test_ss_x)\n",
    "print('LDA准确率: %0.4lf' %accuracy_score(predict_y,test_y))"
   ]
  },
  {
   "cell_type": "code",
   "execution_count": 8,
   "metadata": {},
   "outputs": [
    {
     "name": "stdout",
     "output_type": "stream",
     "text": "朴素贝叶斯准确率: 0.8311\n"
    }
   ],
   "source": [
    "# 创建贝叶斯分类器\n",
    "model = GaussianNB()\n",
    "model.fit(train_x,train_y)\n",
    "predict_y = model.predict(test_x)\n",
    "print('朴素贝叶斯准确率: %0.4lf' %accuracy_score(predict_y,test_y))"
   ]
  },
  {
   "cell_type": "code",
   "execution_count": 9,
   "metadata": {},
   "outputs": [
    {
     "name": "stdout",
     "output_type": "stream",
     "text": "朴素贝叶斯准确率: 0.9867\n"
    }
   ],
   "source": [
    "# 创建SVM分类器\n",
    "model = svm.SVC(kernel='rbf',C=1.0,gamma='auto')\n",
    "model.fit(train_ss_x,train_y)\n",
    "predict_y = model.predict(test_ss_x)\n",
    "print('朴素贝叶斯准确率: %0.4lf' %accuracy_score(predict_y,test_y))"
   ]
  },
  {
   "cell_type": "code",
   "execution_count": 10,
   "metadata": {},
   "outputs": [
    {
     "name": "stdout",
     "output_type": "stream",
     "text": "KNN准确率: 0.9756\n"
    }
   ],
   "source": [
    "# 创建KNN分类器\n",
    "model = KNeighborsClassifier()\n",
    "model.fit(train_ss_x,train_y)\n",
    "predict_y = model.predict(test_ss_x)\n",
    "print('KNN准确率: %0.4lf' %accuracy_score(predict_y,test_y))"
   ]
  },
  {
   "cell_type": "code",
   "execution_count": 11,
   "metadata": {},
   "outputs": [
    {
     "name": "stdout",
     "output_type": "stream",
     "text": "AdaBoost准确率: 0.9644\n"
    }
   ],
   "source": [
    "# 创建AdaBoost分类器\n",
    "# 弱分类器\n",
    "dt_stump = DecisionTreeClassifier(max_depth=5,min_samples_leaf=1)\n",
    "dt_stump.fit(train_ss_x,train_y)\n",
    "# dt_stump_err = 1.0-dt_stump.score(test_x,test_y)\n",
    "# 设置AdaBoost迭代次数\n",
    "n_estimators = 500\n",
    "model = AdaBoostClassifier(base_estimator=dt_stump,n_estimators=n_estimators)\n",
    "model.fit(train_ss_x,train_y)\n",
    "predict_y = model.predict(test_ss_x)\n",
    "print('AdaBoost准确率: %0.4lf' %accuracy_score(predict_y,test_y))"
   ]
  },
  {
   "cell_type": "code",
   "execution_count": 12,
   "metadata": {},
   "outputs": [
    {
     "name": "stdout",
     "output_type": "stream",
     "text": "XGBoost准确率: 0.9489\n"
    }
   ],
   "source": [
    "# 创建XGBoost分类器\n",
    "model = XGBClassifier()\n",
    "model.fit(train_ss_x,train_y)\n",
    "predict_y = model.predict(test_ss_x)\n",
    "print('XGBoost准确率: %0.4lf' %accuracy_score(predict_y,test_y))"
   ]
  },
  {
   "cell_type": "code",
   "execution_count": null,
   "metadata": {},
   "outputs": [],
   "source": []
  }
 ]
}