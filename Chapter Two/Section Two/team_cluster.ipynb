{
 "nbformat": 4,
 "nbformat_minor": 2,
 "metadata": {
  "language_info": {
   "name": "python",
   "codemirror_mode": {
    "name": "ipython",
    "version": 3
   },
   "version": "3.7.4-final"
  },
  "orig_nbformat": 2,
  "file_extension": ".py",
  "mimetype": "text/x-python",
  "name": "python",
  "npconvert_exporter": "python",
  "pygments_lexer": "ipython3",
  "version": 3,
  "kernelspec": {
   "name": "python37464bitbaseconda68d4c1b18059495ab3f7b8c839aeb166",
   "display_name": "Python 3.7.4 64-bit ('base': conda)"
  }
 },
 "cells": [
  {
   "cell_type": "code",
   "execution_count": 1,
   "metadata": {},
   "outputs": [],
   "source": [
    "# coding: utf-8\n",
    "from sklearn.cluster import KMeans\n",
    "from sklearn import preprocessing\n",
    "import pandas as pd\n",
    "import numpy as np"
   ]
  },
  {
   "cell_type": "code",
   "execution_count": 2,
   "metadata": {},
   "outputs": [],
   "source": [
    "# 数据加载\n",
    "data = pd.read_csv('team_cluster_data.csv',encoding='gbk')\n",
    "train_x = data[[\"2019国际排名\",\"2018世界杯排名\",\"2015亚洲杯排名\"]]\n",
    "kmeans = KMeans(n_clusters=3)"
   ]
  },
  {
   "cell_type": "code",
   "execution_count": 3,
   "metadata": {},
   "outputs": [],
   "source": [
    "# 规范化到 [0,1] 空间\n",
    "min_max_scaler = preprocessing.MinMaxScaler()\n",
    "train_x = min_max_scaler.fit_transform(train_x)\n",
    "# print(train_x)"
   ]
  },
  {
   "cell_type": "code",
   "execution_count": 4,
   "metadata": {},
   "outputs": [],
   "source": [
    "# kmeans 算法\n",
    "kmeans.fit(train_x)\n",
    "predict_y = kmeans.predict(train_x)"
   ]
  },
  {
   "cell_type": "code",
   "execution_count": 5,
   "metadata": {},
   "outputs": [
    {
     "name": "stdout",
     "output_type": "stream",
     "text": "国家  2019国际排名  2018世界杯排名  2015亚洲杯排名  聚类结果\n0       中国        73         40          7     2\n1       日本        60         15          5     0\n2       韩国        61         19          2     0\n3       伊朗        34         18          6     0\n4       沙特        67         26         10     0\n5      伊拉克        91         40          4     2\n6      卡塔尔       101         40         13     1\n7      阿联酋        81         40          6     2\n8   乌兹别克斯坦        88         40          8     2\n9       泰国       122         40         17     1\n10      越南       102         50         17     1\n11      阿曼        87         50         12     1\n12      朝鲜       110         50         14     1\n13      印尼       164         50         17     1\n14      澳洲        40         30          1     0\n15     叙利亚        76         40         17     1\n16      约旦       118         50          9     2\n17     科威特       160         50         15     1\n"
    }
   ],
   "source": [
    "# 合并聚类结果,插入到原数据中\n",
    "result = pd.concat((data,pd.DataFrame(predict_y)),axis=1)\n",
    "result.rename({0:u'聚类结果'},axis=1,inplace=True)\n",
    "print(result)"
   ]
  },
  {
   "cell_type": "code",
   "execution_count": 6,
   "metadata": {},
   "outputs": [],
   "source": [
    "# 将结果导出到CSV文件中\n",
    "result.to_csv('tram_cluster_result.csv',encoding='gbk')"
   ]
  },
  {
   "cell_type": "code",
   "execution_count": null,
   "metadata": {},
   "outputs": [],
   "source": []
  }
 ]
}