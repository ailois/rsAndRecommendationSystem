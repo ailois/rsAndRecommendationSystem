{
 "nbformat": 4,
 "nbformat_minor": 2,
 "metadata": {
  "language_info": {
   "name": "python",
   "codemirror_mode": {
    "name": "ipython",
    "version": 3
   },
   "version": "3.7.4-final"
  },
  "orig_nbformat": 2,
  "file_extension": ".py",
  "mimetype": "text/x-python",
  "name": "python",
  "npconvert_exporter": "python",
  "pygments_lexer": "ipython3",
  "version": 3,
  "kernelspec": {
   "name": "python37464bitbaseconda68d4c1b18059495ab3f7b8c839aeb166",
   "display_name": "Python 3.7.4 64-bit ('base': conda)"
  }
 },
 "cells": [
  {
   "cell_type": "code",
   "execution_count": 1,
   "metadata": {},
   "outputs": [],
   "source": [
    "import numpy as np"
   ]
  },
  {
   "cell_type": "code",
   "execution_count": 2,
   "metadata": {},
   "outputs": [],
   "source": [
    "a = np.array([[0, 12, 999, 999, 999, 16, 14], \n",
    "\t\t\t  [12, 0, 10,  999, 999, 7, 999],\n",
    "\t\t\t  [999,10, 0,  3,   5,   6, 999],\n",
    "\t\t\t  [999,999,3,  0,   4,  999,999],\n",
    "\t\t\t  [999,999,5,  4,   0,   2, 8],\n",
    "\t\t\t  [16, 7,  6, 999,  2,   0, 9],\n",
    "\t\t\t  [14, 999,999,999, 8,   9, 0]])"
   ]
  },
  {
   "cell_type": "code",
   "execution_count": 3,
   "metadata": {},
   "outputs": [],
   "source": [
    "n = 7"
   ]
  },
  {
   "cell_type": "code",
   "execution_count": 4,
   "metadata": {},
   "outputs": [],
   "source": [
    "# 使用Floyed算法\n",
    "for k in range(0, n):\n",
    "    for i in range(0, n):\n",
    "        for j in range(0, n):\n",
    "            if a[i][k] + a[k][j] < a[i][j]:\n",
    "                a[i][j] = a[i][k] + a[k][j]"
   ]
  },
  {
   "cell_type": "code",
   "execution_count": 5,
   "metadata": {},
   "outputs": [
    {
     "name": "stdout",
     "output_type": "stream",
     "text": "各城市之间的最短距离:  [[ 0 12 22 22 18 16 14]\n [12  0 10 13  9  7 16]\n [22 10  0  3  5  6 13]\n [22 13  3  0  4  6 12]\n [18  9  5  4  0  2  8]\n [16  7  6  6  2  0  9]\n [14 16 13 12  8  9  0]]\n城市D到其他城市的最短距离:  [22 13  3  0  4  6 12]\n"
    }
   ],
   "source": [
    "# 输出结果\n",
    "print('各城市之间的最短距离: ', a)\n",
    "print('城市D到其他城市的最短距离: ', a[3])"
   ]
  },
  {
   "cell_type": "code",
   "execution_count": null,
   "metadata": {},
   "outputs": [],
   "source": []
  }
 ]
}