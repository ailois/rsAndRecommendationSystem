{
 "nbformat": 4,
 "nbformat_minor": 2,
 "metadata": {
  "language_info": {
   "name": "python",
   "codemirror_mode": {
    "name": "ipython",
    "version": 3
   },
   "version": "3.7.4-final"
  },
  "orig_nbformat": 2,
  "file_extension": ".py",
  "mimetype": "text/x-python",
  "name": "python",
  "npconvert_exporter": "python",
  "pygments_lexer": "ipython3",
  "version": 3,
  "kernelspec": {
   "name": "python37464bitbaseconda68d4c1b18059495ab3f7b8c839aeb166",
   "display_name": "Python 3.7.4 64-bit ('base': conda)"
  }
 },
 "cells": [
  {
   "cell_type": "code",
   "execution_count": 1,
   "metadata": {},
   "outputs": [],
   "source": [
    "# -*- coding: utf-8 -*-\n",
    "import jieba\n",
    "import jieba.analyse\n",
    "import jieba.posseg as pseg"
   ]
  },
  {
   "cell_type": "code",
   "execution_count": 2,
   "metadata": {},
   "outputs": [],
   "source": [
    "sentence = '一个超过5000万人关注的大项目，您参加了吗?央视新闻新媒体推出武汉火神山、雷神山医院建设现场24小时不间断直播，短短几天时间吸引无数关心医院建设的网友围观。其中最受广大网友关注的火神山两路镜头对准的正是中建三局三公司承建区域，截至30日13:50，在看人数已突破5000万。热心的网友们自称为“云监工”或“网络包工头”，自发在评论区实行“两班倒”打卡“监督”还热切、尽职的互动交流起了“工作”。这一称号数度登上微博热搜。繁忙却相对单调枯燥的施工画面，因为“云监工”们脑洞大开的评论而妙趣横生，他们给所有的机器都起好了名字，根据颜色亲昵的叫上了小红、小黄、小蓝，没事就来视频里蹲自己喜欢的机器出现还编起了段子，绘起了同人。不仅现场的各种机械设备有了“粉丝团”，有细心者甚至数出了直播画面中中建三局三公司这一施工区域中出镜的管理人员与工友人数。记者了解到，火神山医院建设方之一的中建三局三公司在四川也有不少项目，德阳市妇女儿童专科医院项目也是该公司在建设。最后，让我们一起以比直播镜头更近、更鲜活的视角来重温让万千网友为之惊叹鼓舞的奋斗时刻!'"
   ]
  },
  {
   "cell_type": "code",
   "execution_count": 3,
   "metadata": {},
   "outputs": [
    {
     "name": "stderr",
     "output_type": "stream",
     "text": "Building prefix dict from the default dictionary ...\nLoading model from cache C:\\Users\\Public\\Documents\\Wondershare\\CreatorTemp\\jieba.cache\nLoading model cost 0.654 seconds.\nPrefix dict has been built successfully.\n一个 超过 5000 万人 关注 的 大 项目 ， 您 参加 了 吗 ? 央视 新闻 新 媒体 推出 武汉 火神 山 、 雷 神山 医院 建设 现场 24 小时 不间断 直播 ， 短短几天 时间 吸引 无数 关心 医院 建设 的 网友 围观 。 其中 最受 广大 网友 关注 的 火神 山 两路 镜头 对准 的 正是 中建 三局 三 公司 承建 区域 ， 截至 30 日 13 : 50 ， 在 看 人数 已 突破 5000 万 。 热心 的 网友 们 自称为 “ 云 监工 ” 或 “ 网络 包工头 ” ， 自发 在 评论 区 实行 “ 两班 倒 ” 打卡 “ 监督 ” 还 热切 、 尽职 的 互动 交流 起 了 “ 工作 ” 。 这一 称号 数度 登上 微博热 搜 。 繁忙 却 相对 单调枯燥 的 施工 画面 ， 因为 “ 云 监工 ” 们 脑洞 大开 的 评论 而 妙趣横生 ， 他们 给 所有 的 机器 都 起 好 了 名字 ， 根据 颜色 亲昵 的 叫 上 了 小红 、 小黄 、 小蓝 ， 没事 就 来 视频 里 蹲 自己 喜欢 的 机器 出现 还 编起 了 段子 ， 绘起 了 同人 。 不仅 现场 的 各种 机械设备 有 了 “ 粉丝团 ” ， 有 细心 者 甚至 数出 了 直播 画面 中 中建 三局 三 公司 这一 施工 区域 中 出镜 的 管理人员 与 工友 人数 。 记者 了解 到 ， 火神 山 医院 建设 方 之一 的 中建 三局 三 公司 在 四川 也 有 不少 项目 ， 德阳市 妇女儿童 专科医院 项目 也 是 该 公司 在 建设 。 最后 ， 让 我们 一起 以比 直播 镜头 更近 、 更 鲜活 的 视角 来 重温 让 万千 网友 为 之 惊叹 鼓舞 的 奋斗 时刻 !\n一个, m\n超过, v\n5000, m\n万, m\n人, n\n关注, v\n的, uj\n大, n\n项目, n\n，, x\n您, zg\n参加, v\n了, ul\n吗, y\n?, x\n央视, j\n新闻, n\n新, a\n媒体, n\n推出, v\n武汉, ns\n火神, n\n山, n\n、, x\n雷, n\n神山, ns\n医院, n\n建设, vn\n现场, n\n24, m\n小时, n\n不间断, l\n直播, vn\n，, x\n短短几天, i\n时间, n\n吸引, v\n无数, m\n关心, n\n医院, n\n建设, vn\n的, uj\n网友, n\n围观, n\n。, x\n其中, r\n最, d\n受, v\n广大, a\n网友, n\n关注, v\n的, uj\n火神, n\n山, n\n两路, m\n镜头, n\n对准, n\n的, uj\n正是, d\n中建, ns\n三局, j\n三, m\n公司, n\n承建, v\n区域, n\n，, x\n截至, v\n30, m\n日, m\n13, m\n:, x\n50, m\n，, x\n在, p\n看, v\n人数, n\n已, d\n突破, vn\n5000, m\n万, m\n。, x\n热心, n\n的, uj\n网友, n\n们, k\n自称为, l\n“, x\n云, ns\n监工, vn\n”, x\n或, c\n“, x\n网络, n\n包工头, n\n”, x\n，, x\n自发, v\n在, p\n评论, n\n区, n\n实行, v\n“, x\n两班, m\n倒, v\n”, x\n打卡, v\n“, x\n监督, vn\n”, x\n还, d\n热切, a\n、, x\n尽职, v\n的, uj\n互动, d\n交流, n\n起, v\n了, ul\n“, x\n工作, vn\n”, x\n。, x\n这, r\n一, m\n称号, n\n数度, n\n登上, v\n微, d\n博热, a\n搜, v\n。, x\n繁忙, a\n却, d\n相对, d\n单调枯燥, n\n的, uj\n施工, vn\n画面, n\n，, x\n因为, c\n“, x\n云, ns\n监工, vn\n”, x\n们, k\n脑洞, n\n大开, ad\n的, uj\n评论, n\n而, c\n妙趣横生, i\n，, x\n他们, r\n给, p\n所有, b\n的, uj\n机器, n\n都, d\n起好, v\n了, ul\n名字, n\n，, x\n根据, p\n颜色, n\n亲昵, a\n的, uj\n叫上, v\n了, ul\n小, a\n红, a\n、, x\n小, a\n黄, n\n、, x\n小蓝, nr\n，, x\n没事, v\n就, d\n来, v\n视频, n\n里, f\n蹲, v\n自己, r\n喜欢, v\n的, uj\n机器, n\n出现, v\n还, d\n编起, v\n了, ul\n段子, nr\n，, x\n绘起, v\n了, ul\n同人, n\n。, x\n不仅, c\n现场, n\n的, uj\n各种, r\n机械设备, n\n有, v\n了, ul\n“, x\n粉丝团, n\n”, x\n，, x\n有, v\n细心, n\n者, k\n甚至, d\n数出, m\n了, ul\n直播, vn\n画面, n\n中, f\n中建, ns\n三局, j\n三, m\n公司, n\n这, r\n一, m\n施工, vn\n区域, n\n中, f\n出镜, n\n的, uj\n管理人员, n\n与, p\n工友, n\n人数, n\n。, x\n记者, n\n了解, v\n到, v\n，, x\n火神, n\n山, n\n医院, n\n建设, vn\n方, n\n之一, r\n的, uj\n中建, ns\n三局, j\n三, m\n公司, n\n在, p\n四川, ns\n也, d\n有, v\n不少, d\n项目, n\n，, x\n德阳市, ns\n妇女儿童, n\n专科医院, nz\n项目, n\n也, d\n是, v\n该, r\n公司, n\n在, p\n建设, vn\n。, x\n最后, f\n，, x\n让, v\n我们, r\n一起, m\n以, p\n比, n\n直播, vn\n镜头, n\n更, d\n近, a\n、, x\n更, d\n鲜活, a\n的, uj\n视角, n\n来, v\n重温, n\n让, v\n万千, m\n网友, n\n为, p\n之, f\n惊叹, v\n鼓舞, v\n的, uj\n奋斗, v\n时刻, n\n!, x\n"
    }
   ],
   "source": [
    "# 获取分词\n",
    "seg_list = jieba.cut(sentence, cut_all=False)\n",
    "print(' '.join(seg_list))\n",
    "# 获取分词和词性\n",
    "words = pseg.cut(sentence)\n",
    "for word, flag in words:\n",
    "    print('%s, %s' % (word, flag))"
   ]
  },
  {
   "cell_type": "code",
   "execution_count": 4,
   "metadata": {},
   "outputs": [
    {
     "name": "stdout",
     "output_type": "stream",
     "text": "火神 0.4181804110962857\n网友 0.378088162616\n中建 0.3376994701127143\n医院 0.25126334645442855\n镜头 0.24592493792142855\n画面 0.22267585040657142\n项目 0.2092641596622857\n公司 0.2001982824902857\n评论 0.19362871047914285\n机器 0.1897589006822857\n人数 0.1828929817537143\n单调枯燥 0.18288664804714286\n现场 0.180352970704\n脑洞 0.17078239289857142\n小蓝 0.17078239289857142\n粉丝团 0.17078239289857142\n出镜 0.16568703655714284\n区域 0.16398823254657144\n德阳市 0.15729008420142856\n妇女儿童 0.15508793163285714\n----------------------------------------------------------------------------------------------------\n"
    }
   ],
   "source": [
    "# 通过TF-IDF获取关键词\n",
    "keywords = jieba.analyse.extract_tags(sentence, topK=20, withWeight=True, allowPOS=('n','nr','ns'))\n",
    "for item in keywords:\n",
    "    print(item[0],item[1])\n",
    "print('-'*100)"
   ]
  },
  {
   "cell_type": "code",
   "execution_count": 5,
   "metadata": {},
   "outputs": [],
   "source": [
    "# 基于TextRank算法的关键词抽取\n",
    "#keywords = jieba.analyse.extract_tags(sentence, topK=20, withWeight=True, allowPOS=('n','nr','ns'))\n",
    "#keywords = jieba.analyse.textrank(sentence, topK=20, withWeight=True, allowPOS=('ns', 'n', 'vn', 'v')) \n",
    "keywords = jieba.analyse.textrank(sentence, topK=20, withWeight=True, allowPOS=('n', 'ns')) \n",
    "#keywords = jieba.analyse.textrank(sentence, topK=20, withWeight=True) "
   ]
  },
  {
   "cell_type": "code",
   "execution_count": 6,
   "metadata": {},
   "outputs": [
    {
     "name": "stdout",
     "output_type": "stream",
     "text": "[('医院', 1.0), ('火神', 0.9414844902917909), ('网友', 0.8268740074698203), ('公司', 0.7415524740650592), ('现场', 0.7313476872432452), ('中建', 0.6788707243758256), ('项目', 0.6601022259280717), ('名字', 0.6257455640865668), ('工友', 0.4716635060606997), ('管理人员', 0.46522048839235064), ('区域', 0.4414174520619514), ('粉丝团', 0.4365444956353668), ('网络', 0.4269438247514018), ('称号', 0.4269438247514018), ('评论', 0.4269438247514018), ('包工头', 0.42384737142253626), ('数度', 0.42384737142253626), ('脑洞', 0.42384737142253626), ('关心', 0.3983510130478609), ('武汉', 0.39481391839484586)]\n医院 1.0\n火神 0.9414844902917909\n网友 0.8268740074698203\n公司 0.7415524740650592\n现场 0.7313476872432452\n中建 0.6788707243758256\n项目 0.6601022259280717\n名字 0.6257455640865668\n工友 0.4716635060606997\n管理人员 0.46522048839235064\n区域 0.4414174520619514\n粉丝团 0.4365444956353668\n网络 0.4269438247514018\n称号 0.4269438247514018\n评论 0.4269438247514018\n包工头 0.42384737142253626\n数度 0.42384737142253626\n脑洞 0.42384737142253626\n关心 0.3983510130478609\n武汉 0.39481391839484586\n"
    }
   ],
   "source": [
    "print(keywords)\n",
    "for item in keywords:\n",
    "    print(item[0],item[1])"
   ]
  },
  {
   "cell_type": "code",
   "execution_count": null,
   "metadata": {},
   "outputs": [],
   "source": []
  }
 ]
}