{
 "nbformat": 4,
 "nbformat_minor": 2,
 "metadata": {
  "language_info": {
   "name": "python",
   "codemirror_mode": {
    "name": "ipython",
    "version": 3
   },
   "version": "3.7.4-final"
  },
  "orig_nbformat": 2,
  "file_extension": ".py",
  "mimetype": "text/x-python",
  "name": "python",
  "npconvert_exporter": "python",
  "pygments_lexer": "ipython3",
  "version": 3,
  "kernelspec": {
   "name": "python37464bitbaseconda68d4c1b18059495ab3f7b8c839aeb166",
   "display_name": "Python 3.7.4 64-bit ('base': conda)"
  }
 },
 "cells": [
  {
   "cell_type": "code",
   "execution_count": 1,
   "metadata": {},
   "outputs": [],
   "source": [
    "import igraph"
   ]
  },
  {
   "cell_type": "code",
   "execution_count": 2,
   "metadata": {},
   "outputs": [
    {
     "name": "stdout",
     "output_type": "stream",
     "text": "Clustering with 115 elements and 9 clusters\n[0] 0, 4, 9, 16, 23, 41, 93, 104\n[1] 1, 25, 33, 37, 45, 89, 103, 105, 109\n[2] 2, 6, 13, 15, 32, 39, 47, 60, 64, 100, 106\n[3] 3, 5, 10, 11, 24, 28, 40, 44, 48, 50, 52, 57, 58, 59, 63, 66, 69, 72, 74,\n    75, 81, 84, 86, 90, 91, 92, 97, 98, 102, 107, 112\n[4] 7, 8, 21, 22, 51, 68, 77, 78, 108, 111\n[5] 12, 14, 18, 26, 31, 34, 36, 38, 42, 43, 54, 61, 71, 85, 99\n[6] 17, 20, 27, 56, 62, 65, 70, 76, 87, 95, 96, 113\n[7] 19, 29, 30, 35, 55, 79, 80, 82, 94, 101\n[8] 46, 49, 53, 67, 73, 83, 88, 110, 114\n"
    }
   ],
   "source": [
    "g = igraph.Graph.Read_GML('football.gml')\n",
    "igraph.plot(g)\n",
    "print(g.community_label_propagation())"
   ]
  },
  {
   "cell_type": "code",
   "execution_count": null,
   "metadata": {},
   "outputs": [],
   "source": []
  }
 ]
}