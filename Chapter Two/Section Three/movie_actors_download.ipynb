{
 "nbformat": 4,
 "nbformat_minor": 2,
 "metadata": {
  "language_info": {
   "name": "python",
   "codemirror_mode": {
    "name": "ipython",
    "version": 3
   },
   "version": "3.7.4-final"
  },
  "orig_nbformat": 2,
  "file_extension": ".py",
  "mimetype": "text/x-python",
  "name": "python",
  "npconvert_exporter": "python",
  "pygments_lexer": "ipython3",
  "version": 3,
  "kernelspec": {
   "name": "python37464bitbaseconda68d4c1b18059495ab3f7b8c839aeb166",
   "display_name": "Python 3.7.4 64-bit ('base': conda)"
  }
 },
 "cells": [
  {
   "cell_type": "code",
   "execution_count": 1,
   "metadata": {},
   "outputs": [],
   "source": [
    "# -*- coding: utf-8 -*-\n",
    "# 下载某个演员/导演的电影数据集\n",
    "from lxml import etree\n",
    "import time\n",
    "from selenium import webdriver\n",
    "import pandas as pd"
   ]
  },
  {
   "cell_type": "code",
   "execution_count": 2,
   "metadata": {},
   "outputs": [],
   "source": [
    "'''\n",
    "这里修改ChromeDriver为geckodriver\n",
    "'''\n",
    "chrome_driver = r'D:\\software\\Mozilla Firefox\\firefox.exe'\n",
    "driver = webdriver.Firefox(firefox_binary=chrome_driver,executable_path=r'D:\\software\\Mozilla Firefox\\geckodriver')\n",
    "# 设置想要下载的导演 数据集\n",
    "director = u'徐峥'\n",
    "base_url = 'https://movie.douban.com/subject_search?search_text='+director+'&cat=1002&start='"
   ]
  },
  {
   "cell_type": "code",
   "execution_count": 3,
   "metadata": {},
   "outputs": [],
   "source": [
    "movie_actors = {}\n",
    "# 下载指定页面的数据\n",
    "def download(request_url):\n",
    "    driver.get(request_url)\n",
    "    time.sleep(1)\n",
    "    html = driver.find_element_by_xpath(\"//*\").get_attribute(\"outerHTML\")\n",
    "    html = etree.HTML(html)\n",
    "    # 设置电影名称,导演演员 的XPATH\n",
    "    movie_lists = html.xpath(\"/html/body/div[@id='wrapper']/div[@id='root']/div[1]//div[@class='item-root']/div[@class='detail']/div[@class='title']/a[@class='title-text']\")\n",
    "    name_lists = html.xpath(\"/html/body/div[@id='wrapper']/div[@id='root']/div[1]//div[@class='item-root']/div[@class='detail']/div[@class='meta abstract_2']\")\n",
    "    # 获取返回的数据个数\n",
    "    num = len(movie_lists)\n",
    "\n",
    "    #第一页会有16条数据\n",
    "    if num > 15:\n",
    "        # 默认第一个不是,所以需要去掉\n",
    "        movie_lists = movie_lists[1:]\n",
    "        name_lists = name_lists[1:]\n",
    "    for (movie,name_list) in zip(movie_lists, name_lists):\n",
    "        # 会存在数据为空的情况\n",
    "        if name_list.text is None:\n",
    "            continue\n",
    "        names = name_list.text.split('/')\n",
    "        movie_actors[movie.text] = name_list.text.replace(\" \",\"\")\n",
    "        print(name_list.text.replace(\" \",\"\"))\n",
    "    print('OK') #代表这页护具下载成功\n",
    "    if num >= 15:\n",
    "        # 继续下一页\n",
    "        return True\n",
    "    else:\n",
    "        # 没有下一页\n",
    "        return False"
   ]
  },
  {
   "cell_type": "code",
   "execution_count": 4,
   "metadata": {},
   "outputs": [
    {
     "name": "stdout",
     "output_type": "stream",
     "text": "徐峥/袁泉/郭京飞/黄景瑜/贾冰/黄梅莹/高以翔/沈腾\n文牧野/徐峥/王传君/周一围/谭卓/章宇/杨新鸣/王佳佳/王砚辉\n陈凯歌/张一白/管虎/薛晓路/徐峥/宁浩/文牧野/黄渤/张译/韩昊霖/杜江/葛优/刘昊然/宋佳/王千源\n宁浩/黄渤/沈腾/汤姆·派福瑞/马修·莫里森/徐峥/于和伟/雷佳音/刘桦\n徐峥/王宝强/黄渤/陶虹/谢楠/范冰冰\n徐峥/赵薇/包贝尔/杜鹃/葛民辉/李灿森/潘虹/赵有亮\n宁浩/郭涛/刘桦/连晋/黄渤/徐峥/优恵/罗兰/王迅\n黄渤/舒淇/王宝强/张艺兴/于和伟/王迅/李勤勤/李又麟\n叶伟民/徐峥/王宝强/李曼/李小璐/左小青/张歆艺/黄小蕾/马健\n宁浩/黄渤/徐峥/袁泉/周冬雨/陶慧/岳小军/沈腾/张俪\n贾樟柯/赵涛/廖凡/徐峥/梁嘉艳/刁亦男/张一白/丁嘉丽/张译\n宁浩/徐峥/黄渤/余男/多布杰/王双宝/巴多/杨新鸣/郭虹\n宁浩/黄渤/戎祥/九孔/徐峥/王双宝/巴多/董立范/高捷\n苏伦/雷佳音/佟丽娅/张衣/于和伟/王正佳/陶虹/李念/李光洁\n彭浩翔/杨千嬅/余文乐/杨幂/徐峥/陈逸宁/林兆霞/谷德昭/詹瑞文\nOK\n陈正道/徐峥/莫文蔚/胡静/吕中/王耀庆/杨凯迪\n任鹏远/徐峥/王丽坤/王砚辉/段博文/任达华/于和伟/朱珠/赵达\n张建亚/徐峥/刘仪伟/宁静/白冰/伊能静/车永莉/沈星/宋佳\n杨庆/徐峥/李小璐/乔任梁/杨青/张嘉译/赵英俊\n邵晓黎/徐峥/张子枫/王宣予/张颂文/王太利/肖央/岳小军/杜家毅\n韩三平/黄建新/刘烨/冯远征/张嘉译/陈坤/马少骅/李沁/周润发/赵本山\n金依萌/范冰冰/李治廷/吴佩慈/蒋劲夫/丹尼尔·海尼/刘维/倪虹洁/黎明\n谭晓虹/于谦/李诞/吴昕/池子/马东/王建国/程璐/庞博\n李海蜀/徐峥/许绍雄/林鹏/李凤绪/仁龙/郭明翔/朱琳/冯瓅\n张建亚/林嘉欣/邓超/黄渤/范伟/古巨基/黄磊/苏有朋/佟大为\n刘仪伟/张坚庭/孙周/林锦和/葛优/范冰冰/闫妮/邱心志/姚晨/徐峥/徐帆\n霍建起/黄晓明/徐峥/蒲巴甲/罗晋/汤镇业/锦荣/谭凯/姜超\n任静/严敏/黄渤/孙红雷/黄磊/罗志祥/张艺兴/王迅/陈乔恩/郭涛\n范小天/叶崇铭/梦继/徐峥/陶虹/孙兴/李立群/陈红/翁虹/屈中恒/钮承泽\n嵇天毅/于和伟/张丹峰/侯梦莎/傅浤鸣/徐洪浩/吴秀波/徐峥/侯勇\nOK\n孙皓/徐峥/宋佳/梅婷/张歆艺/马苏/车晓/隋兰/王茂蕾\n陶晶莹/李安/巩俐/谢盈萱/周迅/赵涛/曾美慧孜/孙俪\n黄渤/邓超/姚晨/陈凯歌/成龙/胡歌/王宝强/王源\n吴彤/沈涛/王源/沈腾/贾玲/欧阳娜娜/刘芸/凌潇肃/周一围\n钟少雄/徐峥/谢娜/黄奕/邱胜翊/应采儿/何炅/孙兴/杜海涛\n吴彤/章子怡/徐峥/吴秀波/张国立/伊一/刘天池/陈凯歌/许鞍华\n程耳/高圆圆/徐峥/陶虹/鄢钷\n孙太泉/杨军/张庭/徐峥/万弘杰/刘莉莉/孙宝光/史可/李倩/杨俊毅\n徐峥\n黄渤/舒淇/王宝强/张艺兴/于和伟/王迅/李勤勤/李又麟\n郑军/徐峥/陈好/唐国强/王辉/李小燕/杨昊飞/焦晃/李倩\n程耳/徐峥/黄奕\n刘仪伟/黄磊/谢娜/孙天宇/关悦/王晶/徐峥/佟大为\n徐峥/孙菲菲/唐国强/舒畅/王绘春/苗皓钧/杜志国/宗峰岩\n徐峥/王传君/周一围/谭卓/章宇/杨新鸣/王佳佳/王砚辉\nOK\n叶烽/王自健/中孝介/宁浩/李东学/黄龄/宋丹丹/王雷/范明\n王伟廷/徐峥/赵丽颖/于波/杨俊毅/雷恪生\n黄渤/王迅/一纳\n李翰韬/徐峥/张铁林/张庭/刘希媛/陈继铭/董志华/张曦文/李琦\n苏有朋/赵薇/林心如/古巨基/高鑫/寇振海/王琳/徐幸\n刘志/欧阳震华/李铭顺/张世/徐峥/寇振海/保剑锋/宁静/范文芳\n孙立军/范伟/闫妮/张丰毅/濮存昕/张一山/林永健/黄宏/冯远征\n黄蜀芹/巍子/严晓频/王琳/佟瑞欣/吴越/马晓伟/江珊/华明伟\n丁黑/张可颐/谢君豪/陈丽娜/吴兴国/徐峥/黄奕\n张韵华/冯广泉/史久峰/袁岳/徐峥/余彬/黄达亮/曹秋根/姚安濂\n曹晓震/俞杭英/陈坤/徐峥/韩庚/吴磊/大鹏/尹正\n高一功/徐峥/伊春德/王虎城\n刘烨/易小星/董子健/徐峥/张一山/佟丽娅/克里斯·帕拉特/小沈阳\n徐峥\n凯文·格劳特/徐峥/关晓彤\nOK\n黄建新/王志文/江珊/王琳/阮丹宁/徐峥\n范秀明/陈家霏/徐峥/王刚/曾宝仪/祁艳/娄宇健/宋茹惠/魏宗万/王征宇\n曹郁/程工/冯唐/路妍/文林/徐峥\n溥一隽/徐峥/张延\n徐峥/宋小宝/尹正/伊一/郭麒麟\n陈正道/刘烨/赵薇/徐峥/佟大为/黄轩/马苏/袁泉/李易峰\n贾樟柯/姜文/张艺谋/文牧野/毕赣/黄渤/徐峥/章宇\n汪遵熹/刘劲/王允/马晓伟/徐风/史鑫/谢钢/夏正兴/尹铸胜\n张番番/郭涛/陶虹/李小冉/解晓东/徐峥\n武越/徐峥\n陈家林/徐峥/朱媛媛/李又麟/林熙越/夏力薪/林家川\n朱传光/于荣光/倪虹洁/刘蓓/徐峥/高宝宝/王奎荣\n苏菲·玛索/黑泽清/伊莎贝尔·于佩尔/阿斯哈·法哈蒂/蒋雯丽/阿贝尔·费拉拉/关锦鹏StanleyKwan/雷蒙德·雷德\n田华/刘嘉玲/徐峥/赵又廷/马思纯/明道/杨子姗\n鞠觉亮/徐峥/徐锦江/邢岷山/商蓉/罗海琼/沈晓海/王灵/姜黎黎\nOK\n艾朗·德罗榭/马特·弗里沃/托德·芬内尔/安柏·戈德法布/GangZhao/浦蒲/YuanFang/LukeZhiGangLiu/PengZhenZhong\n成龙/朱丽叶·比诺什/阿米尔·汗/徐峥/姚晨/麦斯·米科尔森/约翰尼·德普/伊莎贝尔·于佩尔\n徐峥/雷佳音/陶虹/袁泉/黄渤\n赵丽颖/易烊千玺/徐峥/周冬雨/刘昊然/陈凯歌/吴亦凡/朱丹\n陶白莉/邹集城/杨若兮/徐峥/聂远/刘威/傅艺伟/戴春荣/张璐/谢宁\n江海洋/傅东育/刘小锋/范冰冰/徐峥/廖学秋/薛佳凝/许承先\n王建国/张海宇/周野芒/徐峥\n文牧野/徐峥/姚晨/章宇/佟丽娅/霍建起/苏伦/黄尧\n吴兵/郝蕾/丁志诚/何琳/徐峥/鲍国安/傅彪\n成浩/徐峥/李冰冰\n谭智桐/牛振华/吕丽萍/徐峥/付连智/周莉/贾兆冀/秦焰/吴樾\n汪峰/徐峥/刘震云/白百何/马东/苏芒/贾乃亮/梁文道\n何念/徐峥\n赵薇/章子怡/王家卫/陈可辛/李雪健/张晋/徐峥/杨子姗\nOK\n贾樟柯/刘震云/张扬/陈凯歌/唐大年/吴楠/颜丙燕/冯小刚\n吴兵/徐峥/何琳/王劲松/常蓝天/吕中\n薛晓路/徐峥/汤唯/陈可辛/李睿珺/崔健/滕文骥/郑洞天\n果靖霖/郭采洁/刘雪华/赵立新\n韩东君\n陈晓雷/丁志城/傅彪/赵子琪\n张晓颖/李红陶\n张菁/徐铮/牛莉/魏积安\nOK\n"
    }
   ],
   "source": [
    "# 开始的ID为0，每页增加15\n",
    "start = 0\n",
    "while start<10000: #最多抽取1万部电影\n",
    "\trequest_url = base_url + str(start)\n",
    "\t# 下载数据，并返回是否有下一页\n",
    "\tflag = download(request_url)\n",
    "\tif flag:\n",
    "\t\tstart = start + 15\n",
    "\telse:\n",
    "\t\tbreak"
   ]
  },
  {
   "cell_type": "code",
   "execution_count": 5,
   "metadata": {},
   "outputs": [
    {
     "name": "stdout",
     "output_type": "stream",
     "text": "finished\n"
    }
   ],
   "source": [
    "# 将字典类型转化为DataFrame\n",
    "movie_actors = pd.DataFrame(movie_actors, index=[0])\n",
    "#print(movie_actors)\n",
    "# DataFrame 行列转换\n",
    "movie_actors = pd.DataFrame(movie_actors.values.T, index=movie_actors.columns, columns=movie_actors.index)\n",
    "movie_actors.index.name = 'title'\n",
    "movie_actors.set_axis(['actors'], axis='columns', inplace=True)\n",
    "movie_actors.to_csv('movie_actors.csv',encoding='utf-8')\n",
    "print('finished')"
   ]
  },
  {
   "cell_type": "code",
   "execution_count": null,
   "metadata": {},
   "outputs": [],
   "source": []
  }
 ]
}