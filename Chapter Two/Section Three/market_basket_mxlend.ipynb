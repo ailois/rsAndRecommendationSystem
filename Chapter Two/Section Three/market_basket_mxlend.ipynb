{
 "nbformat": 4,
 "nbformat_minor": 2,
 "metadata": {
  "language_info": {
   "name": "python",
   "codemirror_mode": {
    "name": "ipython",
    "version": 3
   },
   "version": "3.7.4-final"
  },
  "orig_nbformat": 2,
  "file_extension": ".py",
  "mimetype": "text/x-python",
  "name": "python",
  "npconvert_exporter": "python",
  "pygments_lexer": "ipython3",
  "version": 3,
  "kernelspec": {
   "name": "python37464bitbaseconda68d4c1b18059495ab3f7b8c839aeb166",
   "display_name": "Python 3.7.4 64-bit ('base': conda)"
  }
 },
 "cells": [
  {
   "cell_type": "code",
   "execution_count": 1,
   "metadata": {},
   "outputs": [],
   "source": [
    "import pandas as pd\n",
    "import time\n",
    "from mlxtend.frequent_patterns import apriori\n",
    "from mlxtend.frequent_patterns import association_rules"
   ]
  },
  {
   "cell_type": "code",
   "execution_count": 2,
   "metadata": {},
   "outputs": [],
   "source": [
    "# 数据加载\n",
    "data = pd.read_csv('Market_Basket_Optimisation.csv',header=None,sep='\\t',names=['Transaction'])\n",
    "data = data.fillna(0)\n",
    "data['rank'] = data.index"
   ]
  },
  {
   "cell_type": "code",
   "execution_count": 3,
   "metadata": {},
   "outputs": [],
   "source": [
    "def encode_units(x):\n",
    "    if x <= 0:\n",
    "        return 0\n",
    "    if x >= 1:\n",
    "        return 1"
   ]
  },
  {
   "cell_type": "code",
   "execution_count": 4,
   "metadata": {},
   "outputs": [],
   "source": [
    "transaction = pd.DataFrame(columns=['TransactionID','Transaction'])\n",
    "for i,v in data.iterrows():\n",
    "    for s in v:\n",
    "        if type(s) is str:\n",
    "            for t in s.split(','):\n",
    "                s1 = pd.Series({'TransactionID' : i,'Transaction' : t})\n",
    "                transaction=transaction.append(s1,ignore_index=True)"
   ]
  },
  {
   "cell_type": "code",
   "execution_count": 5,
   "metadata": {},
   "outputs": [
    {
     "name": "stdout",
     "output_type": "stream",
     "text": "频繁项集:        support                                          itemsets\n0    0.999867                                   (TransactionID)\n1    0.020397                                         (almonds)\n2    0.033329                                         (avocado)\n3    0.033729                                        (brownies)\n4    0.087188                                         (burgers)\n..        ...                                               ...\n202  0.020131  (whole wheat rice, mineral water, TransactionID)\n203  0.022930             (olive oil, spaghetti, TransactionID)\n204  0.025197              (pancakes, spaghetti, TransactionID)\n205  0.021197                (shrimp, spaghetti, TransactionID)\n206  0.020931              (tomatoes, spaghetti, TransactionID)\n\n[207 rows x 2 columns]\n关联规则:                             antecedents      consequents  antecedent support  \\\n4                           (brownies)  (TransactionID)            0.033729   \n6                            (burgers)  (TransactionID)            0.087188   \n8                             (butter)  (TransactionID)            0.030129   \n10                              (cake)  (TransactionID)            0.081056   \n12                           (cereals)  (TransactionID)            0.025730   \n..                                 ...              ...                 ...   \n476  (whole wheat rice, mineral water)  (TransactionID)            0.020131   \n482             (olive oil, spaghetti)  (TransactionID)            0.022930   \n488              (pancakes, spaghetti)  (TransactionID)            0.025197   \n494                (shrimp, spaghetti)  (TransactionID)            0.021197   \n500              (tomatoes, spaghetti)  (TransactionID)            0.020931   \n\n     consequent support   support  confidence      lift  leverage  conviction  \n4              0.999867  0.033729         1.0  1.000133  0.000004         inf  \n6              0.999867  0.087188         1.0  1.000133  0.000012         inf  \n8              0.999867  0.030129         1.0  1.000133  0.000004         inf  \n10             0.999867  0.081056         1.0  1.000133  0.000011         inf  \n12             0.999867  0.025730         1.0  1.000133  0.000003         inf  \n..                  ...       ...         ...       ...       ...         ...  \n476            0.999867  0.020131         1.0  1.000133  0.000003         inf  \n482            0.999867  0.022930         1.0  1.000133  0.000003         inf  \n488            0.999867  0.025197         1.0  1.000133  0.000003         inf  \n494            0.999867  0.021197         1.0  1.000133  0.000003         inf  \n500            0.999867  0.020931         1.0  1.000133  0.000003         inf  \n\n[84 rows x 9 columns]\n用时:  0.7110545635223389\n"
    }
   ],
   "source": [
    "pd.options.display.max_columns = 100\n",
    "start = time.time()\n",
    "hot_encoded_df = transaction.groupby(['TransactionID','Transaction'])['Transaction'].count().unstack().reset_index().fillna(0)\n",
    "hot_encoded_df = hot_encoded_df.applymap(encode_units)\n",
    "frequent_itemsets = apriori(hot_encoded_df, min_support=0.02, use_colnames=True)\n",
    "rules = association_rules(frequent_itemsets, metric='lift', min_threshold=0.1)\n",
    "print(\"频繁项集: \", frequent_itemsets)\n",
    "print(\"关联规则: \", rules[ (rules['lift'] >= 1) & (rules['confidence'] >= 0.5)])\n",
    "# print(rules['confidence'])\n",
    "end = time.time()\n",
    "print(\"用时: \", end-start)"
   ]
  },
  {
   "cell_type": "code",
   "execution_count": 6,
   "metadata": {},
   "outputs": [
    {
     "name": "stdout",
     "output_type": "stream",
     "text": "TransactionID      Transaction\n0                 0           shrimp\n1                 0          almonds\n2                 0          avocado\n3                 0   vegetables mix\n4                 0     green grapes\n...             ...              ...\n29358          7499        green tea\n29359          7500             eggs\n29360          7500  frozen smoothie\n29361          7500      yogurt cake\n29362          7500   low fat yogurt\n\n[29363 rows x 2 columns]\n"
    }
   ],
   "source": [
    "print(transaction)"
   ]
  },
  {
   "cell_type": "code",
   "execution_count": null,
   "metadata": {},
   "outputs": [],
   "source": []
  }
 ]
}