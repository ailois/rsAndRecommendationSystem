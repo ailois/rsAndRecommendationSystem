{
 "nbformat": 4,
 "nbformat_minor": 2,
 "metadata": {
  "language_info": {
   "name": "python",
   "codemirror_mode": {
    "name": "ipython",
    "version": 3
   },
   "version": "3.7.4-final"
  },
  "orig_nbformat": 2,
  "file_extension": ".py",
  "mimetype": "text/x-python",
  "name": "python",
  "npconvert_exporter": "python",
  "pygments_lexer": "ipython3",
  "version": 3,
  "kernelspec": {
   "name": "python37464bitbaseconda68d4c1b18059495ab3f7b8c839aeb166",
   "display_name": "Python 3.7.4 64-bit ('base': conda)"
  }
 },
 "cells": [
  {
   "cell_type": "code",
   "execution_count": 1,
   "metadata": {},
   "outputs": [],
   "source": [
    "# -*- coding: utf-8 -*-\n",
    "# 使用K-means对图像进行聚类,显示分割标识的可视化\n",
    "import numpy as np\n",
    "import PIL.Image as image\n",
    "from sklearn.cluster import KMeans\n",
    "from sklearn import preprocessing"
   ]
  },
  {
   "cell_type": "code",
   "execution_count": 2,
   "metadata": {},
   "outputs": [],
   "source": [
    "# 加载图像,并对数据进行规范化\n",
    "def load_data(filePath):\n",
    "    # 读文件\n",
    "    f = open(filePath,'rb')\n",
    "    data = []\n",
    "    # 得到图像的像素值\n",
    "    img = image.open(f)\n",
    "    # 得到图像尺寸\n",
    "    width, height = img.size\n",
    "    for x in range(width):\n",
    "        for y in range(height):\n",
    "            # 得到点(x,y)的三个通道值\n",
    "            c1, c2, c3 = img.getpixel((x,y))\n",
    "            data.append([c1,c2,c3])\n",
    "    f.close()\n",
    "    # 采用Min-Max规范化\n",
    "    mm = preprocessing.MinMaxScaler()\n",
    "    data = mm.fit_transform(data)\n",
    "    return np.mat(data), width, height"
   ]
  },
  {
   "cell_type": "code",
   "execution_count": 3,
   "metadata": {},
   "outputs": [],
   "source": [
    "# 加载图像, 得到规范化的结果img, 以及图像尺寸\n",
    "img, width, height = load_data('3.jpg')"
   ]
  },
  {
   "cell_type": "code",
   "execution_count": 4,
   "metadata": {},
   "outputs": [
    {
     "name": "stdout",
     "output_type": "stream",
     "text": "开始聚类分割\n生成分割结果\n"
    }
   ],
   "source": [
    "# 用K-Means对图像进行2聚类\n",
    "kmeans = KMeans(n_clusters=2)\n",
    "print('开始聚类分割')\n",
    "kmeans.fit(img)\n",
    "label = kmeans.predict(img)\n",
    "print('生成分割结果')"
   ]
  },
  {
   "cell_type": "code",
   "execution_count": 6,
   "metadata": {},
   "outputs": [],
   "source": [
    "# 将图像聚类结果,转换成图像尺寸的矩阵\n",
    "label = label.reshape([width,height])"
   ]
  },
  {
   "cell_type": "code",
   "execution_count": 7,
   "metadata": {},
   "outputs": [],
   "source": [
    "# 创建个新图像pic_mark, 用来保存图像聚类的结果,并设置不同的灰度值\n",
    "pic_mark = image.new(\"L\", (width,height))\n",
    "for x in range(width):\n",
    "    for y in range(height):\n",
    "        # 根据类别设置图像灰度,类别0 灰度值为255, 类别1 灰度值为127\n",
    "        pic_mark.putpixel((x,y), int(256/(label[x][y]+1))-1)"
   ]
  },
  {
   "cell_type": "code",
   "execution_count": 8,
   "metadata": {},
   "outputs": [],
   "source": [
    "pic_mark.save('3_mark.jpg','JPEG')"
   ]
  },
  {
   "cell_type": "code",
   "execution_count": null,
   "metadata": {},
   "outputs": [],
   "source": []
  }
 ]
}