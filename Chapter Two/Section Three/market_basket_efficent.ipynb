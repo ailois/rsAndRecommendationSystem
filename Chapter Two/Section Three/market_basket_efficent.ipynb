{
 "nbformat": 4,
 "nbformat_minor": 2,
 "metadata": {
  "language_info": {
   "name": "python",
   "codemirror_mode": {
    "name": "ipython",
    "version": 3
   },
   "version": "3.7.4-final"
  },
  "orig_nbformat": 2,
  "file_extension": ".py",
  "mimetype": "text/x-python",
  "name": "python",
  "npconvert_exporter": "python",
  "pygments_lexer": "ipython3",
  "version": 3,
  "kernelspec": {
   "name": "python37464bitbaseconda68d4c1b18059495ab3f7b8c839aeb166",
   "display_name": "Python 3.7.4 64-bit ('base': conda)"
  }
 },
 "cells": [
  {
   "cell_type": "code",
   "execution_count": 1,
   "metadata": {},
   "outputs": [],
   "source": [
    "import pandas as pd\n",
    "import time\n",
    "from efficient_apriori import apriori"
   ]
  },
  {
   "cell_type": "code",
   "execution_count": 2,
   "metadata": {},
   "outputs": [],
   "source": [
    "# 数据加载\n",
    "data = pd.read_csv('Market_Basket_Optimisation.csv',header=None)\n",
    "data = data.fillna(0)"
   ]
  },
  {
   "cell_type": "code",
   "execution_count": 3,
   "metadata": {},
   "outputs": [],
   "source": [
    "# 将数据集进行格式转换\n",
    "transactions = []\n",
    "for row in data.iterrows():\n",
    "    temp_set = set()\n",
    "    for v in row[1]:\n",
    "        if v != 0:\n",
    "            temp_set.add(v)\n",
    "    transactions.append(temp_set)"
   ]
  },
  {
   "cell_type": "code",
   "execution_count": 4,
   "metadata": {},
   "outputs": [
    {
     "name": "stdout",
     "output_type": "stream",
     "text": "频繁项集:  {1: {('burgers',): 654, ('cake',): 608, ('champagne',): 351, ('chicken',): 450, ('chocolate',): 1229, ('cookies',): 603, ('cooking oil',): 383, ('eggs',): 1348, ('escalope',): 595, ('french fries',): 1282, ('fresh bread',): 323, ('frozen smoothie',): 475, ('frozen vegetables',): 715, ('grated cheese',): 393, ('green tea',): 991, ('ground beef',): 737, ('herb & pepper',): 371, ('honey',): 356, ('low fat yogurt',): 574, ('milk',): 972, ('mineral water',): 1788, ('olive oil',): 494, ('pancakes',): 713, ('salmon',): 319, ('shrimp',): 536, ('soup',): 379, ('spaghetti',): 1306, ('tomatoes',): 513, ('turkey',): 469, ('whole wheat rice',): 439}, 2: {('chocolate', 'mineral water'): 395, ('eggs', 'mineral water'): 382, ('ground beef', 'mineral water'): 307, ('milk', 'mineral water'): 360, ('mineral water', 'spaghetti'): 448}}\n关联规则:  [{mineral water} -> {chocolate}, {chocolate} -> {mineral water}, {mineral water} -> {eggs}, {eggs} -> {mineral water}, {mineral water} -> {ground beef}, {ground beef} -> {mineral water}, {mineral water} -> {milk}, {milk} -> {mineral water}, {spaghetti} -> {mineral water}, {mineral water} -> {spaghetti}]\n"
    }
   ],
   "source": [
    "# 挖掘频繁项集和频繁规则\n",
    "itemsets, rules = apriori(transactions, min_support=0.04, min_confidence=0.1)\n",
    "print('频繁项集: ', itemsets)\n",
    "print('关联规则: ', rules)"
   ]
  },
  {
   "cell_type": "code",
   "execution_count": null,
   "metadata": {},
   "outputs": [],
   "source": []
  }
 ]
}