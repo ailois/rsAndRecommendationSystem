{
 "nbformat": 4,
 "nbformat_minor": 2,
 "metadata": {
  "language_info": {
   "name": "python",
   "codemirror_mode": {
    "name": "ipython",
    "version": 3
   },
   "version": "3.7.4-final"
  },
  "orig_nbformat": 2,
  "file_extension": ".py",
  "mimetype": "text/x-python",
  "name": "python",
  "npconvert_exporter": "python",
  "pygments_lexer": "ipython3",
  "version": 3,
  "kernelspec": {
   "name": "python37464bitbaseconda68d4c1b18059495ab3f7b8c839aeb166",
   "display_name": "Python 3.7.4 64-bit ('base': conda)"
  }
 },
 "cells": [
  {
   "cell_type": "code",
   "execution_count": 1,
   "metadata": {},
   "outputs": [],
   "source": [
    "# 分析MovieLens 电影分类中的频繁项集和关联规则\n",
    "import pandas as pd\n",
    "from mlxtend.frequent_patterns import apriori\n",
    "from mlxtend.frequent_patterns import association_rules"
   ]
  },
  {
   "cell_type": "code",
   "execution_count": 2,
   "metadata": {},
   "outputs": [
    {
     "name": "stdout",
     "output_type": "stream",
     "text": "movieId                               title  (no genres listed)  \\\n0            1                    Toy Story (1995)                   0   \n1            2                      Jumanji (1995)                   0   \n2            3             Grumpier Old Men (1995)                   0   \n3            4            Waiting to Exhale (1995)                   0   \n4            5  Father of the Bride Part II (1995)                   0   \n...        ...                                 ...                 ...   \n27273   131254        Kein Bund für's Leben (2007)                   0   \n27274   131256       Feuer, Eis & Dosenbier (2002)                   0   \n27275   131258                  The Pirates (2014)                   0   \n27276   131260                 Rentun Ruusu (2001)                   1   \n27277   131262                    Innocence (2014)                   0   \n\n       Action  Adventure  Animation  Children  Comedy  Crime  Documentary  \\\n0           0          1          1         1       1      0            0   \n1           0          1          0         1       0      0            0   \n2           0          0          0         0       1      0            0   \n3           0          0          0         0       1      0            0   \n4           0          0          0         0       1      0            0   \n...       ...        ...        ...       ...     ...    ...          ...   \n27273       0          0          0         0       1      0            0   \n27274       0          0          0         0       1      0            0   \n27275       0          1          0         0       0      0            0   \n27276       0          0          0         0       0      0            0   \n27277       0          1          0         0       0      0            0   \n\n       Drama  Fantasy  Film-Noir  Horror  IMAX  Musical  Mystery  Romance  \\\n0          0        1          0       0     0        0        0        0   \n1          0        1          0       0     0        0        0        0   \n2          0        0          0       0     0        0        0        1   \n3          1        0          0       0     0        0        0        1   \n4          0        0          0       0     0        0        0        0   \n...      ...      ...        ...     ...   ...      ...      ...      ...   \n27273      0        0          0       0     0        0        0        0   \n27274      0        0          0       0     0        0        0        0   \n27275      0        0          0       0     0        0        0        0   \n27276      0        0          0       0     0        0        0        0   \n27277      0        1          0       1     0        0        0        0   \n\n       Sci-Fi  Thriller  War  Western  \n0           0         0    0        0  \n1           0         0    0        0  \n2           0         0    0        0  \n3           0         0    0        0  \n4           0         0    0        0  \n...       ...       ...  ...      ...  \n27273       0         0    0        0  \n27274       0         0    0        0  \n27275       0         0    0        0  \n27276       0         0    0        0  \n27277       0         0    0        0  \n\n[27278 rows x 22 columns]\n"
    }
   ],
   "source": [
    "# 数据加载\n",
    "movies = pd.read_csv('movies.csv')\n",
    "# print(movies.head())\n",
    "# 将genres进行one-hot编码（离散特征有多少取值，就用多少维来表示这个特征）\n",
    "movies_hot_encoded = movies.drop('genres',1).join(movies.genres.str.get_dummies(sep='|'))\n",
    "pd.options.display.max_columns=100\n",
    "print(movies_hot_encoded)"
   ]
  },
  {
   "cell_type": "code",
   "execution_count": 3,
   "metadata": {},
   "outputs": [
    {
     "name": "stdout",
     "output_type": "stream",
     "text": "-------------------- 频繁项集 --------------------\n     support                  itemsets\n7   0.489185                   (Drama)\n4   0.306987                  (Comedy)\n14  0.153164                (Thriller)\n12  0.151294                 (Romance)\n0   0.129042                  (Action)\n5   0.107743                   (Crime)\n9   0.095718                  (Horror)\n31  0.094325          (Drama, Romance)\n26  0.093335           (Drama, Comedy)\n6   0.090586             (Documentary)\n1   0.085380               (Adventure)\n27  0.069470         (Comedy, Romance)\n32  0.068480         (Thriller, Drama)\n13  0.063898                  (Sci-Fi)\n28  0.062761            (Drama, Crime)\n11  0.055503                 (Mystery)\n8   0.051763                 (Fantasy)\n29  0.045165         (Thriller, Crime)\n20  0.044101           (Drama, Action)\n15  0.043772                     (War)\n3   0.041755                (Children)\n22  0.040655        (Thriller, Action)\n34  0.039336        (Thriller, Horror)\n10  0.037979                 (Musical)\n2   0.037649               (Animation)\n17  0.035633       (Action, Adventure)\n33  0.032774              (Drama, War)\n35  0.029144       (Thriller, Mystery)\n19  0.028118           (Action, Crime)\n36  0.027458  (Drama, Comedy, Romance)\n30  0.026432          (Mystery, Drama)\n18  0.026358          (Comedy, Action)\n25  0.025368           (Comedy, Crime)\n24  0.025295        (Drama, Adventure)\n37  0.024965  (Thriller, Drama, Crime)\n16  0.024782                 (Western)\n21  0.023499          (Sci-Fi, Action)\n23  0.022032       (Comedy, Adventure)\n"
    }
   ],
   "source": [
    "# 将movieId, title设置为index\n",
    "movies_hot_encoded.set_index(['movieId','title'],inplace=True)\n",
    "# print(movies_hot_encoded.head())\n",
    "# 挖掘频繁项集,最小支持度为0.02\n",
    "itemsets = apriori(movies_hot_encoded,use_colnames=True,min_support=0.02)\n",
    "# 按照支持度从小到大进行排序\n",
    "itemsets = itemsets.sort_values(by='support',ascending=False)\n",
    "print('-'*20,'频繁项集','-'*20)\n",
    "print(itemsets)"
   ]
  },
  {
   "cell_type": "code",
   "execution_count": 4,
   "metadata": {},
   "outputs": [
    {
     "name": "stdout",
     "output_type": "stream",
     "text": "-------------------- 关联规则 --------------------\n          antecedents        consequents  antecedent support  \\\n9           (Mystery)         (Thriller)            0.055503   \n8          (Thriller)          (Mystery)            0.153164   \n15            (Crime)  (Thriller, Drama)            0.107743   \n12  (Thriller, Drama)            (Crime)            0.068480   \n7         (Adventure)           (Action)            0.085380   \n6            (Action)        (Adventure)            0.129042   \n16           (Sci-Fi)           (Action)            0.063898   \n17           (Action)           (Sci-Fi)            0.129042   \n0          (Thriller)            (Crime)            0.153164   \n1             (Crime)         (Thriller)            0.107743   \n5            (Horror)         (Thriller)            0.095718   \n4          (Thriller)           (Horror)            0.153164   \n13     (Drama, Crime)         (Thriller)            0.062761   \n14         (Thriller)     (Drama, Crime)            0.153164   \n3            (Action)         (Thriller)            0.129042   \n2          (Thriller)           (Action)            0.153164   \n10           (Action)            (Crime)            0.129042   \n11            (Crime)           (Action)            0.107743   \n\n    consequent support   support  confidence      lift  leverage  conviction  \n9             0.153164  0.029144    0.525099  3.428352  0.020643    1.783185  \n8             0.055503  0.029144    0.190282  3.428352  0.020643    1.166453  \n15            0.068480  0.024965    0.231711  3.383632  0.017587    1.212461  \n12            0.107743  0.024965    0.364561  3.383632  0.017587    1.404159  \n7             0.129042  0.035633    0.417347  3.234198  0.024616    1.494813  \n6             0.085380  0.035633    0.276136  3.234198  0.024616    1.263525  \n16            0.129042  0.023499    0.367757  2.849906  0.015253    1.377568  \n17            0.063898  0.023499    0.182102  2.849906  0.015253    1.144523  \n0             0.107743  0.045165    0.294878  2.736877  0.028662    1.265394  \n1             0.153164  0.045165    0.419190  2.736877  0.028662    1.458027  \n5             0.153164  0.039336    0.410954  2.683100  0.024675    1.437639  \n4             0.095718  0.039336    0.256821  2.683100  0.024675    1.216776  \n13            0.153164  0.024965    0.397780  2.597093  0.015352    1.406192  \n14            0.062761  0.024965    0.162997  2.597093  0.015352    1.119755  \n3             0.153164  0.040655    0.315057  2.056994  0.020891    1.236360  \n2             0.129042  0.040655    0.265438  2.056994  0.020891    1.185684  \n10            0.107743  0.028118    0.217898  2.022393  0.014215    1.140845  \n11            0.129042  0.028118    0.260973  2.022393  0.014215    1.178520  \n"
    }
   ],
   "source": [
    "# 根据频繁项集计算关联规则,设置最小提升度为2\n",
    "rules = association_rules(itemsets,metric='lift',min_threshold=2)\n",
    "# 按照提升度从大到小进行排序\n",
    "rules = rules.sort_values(by='lift', ascending=False)\n",
    "print('-'*20, '关联规则', '-'*20)\n",
    "print(rules)"
   ]
  },
  {
   "cell_type": "code",
   "execution_count": null,
   "metadata": {},
   "outputs": [],
   "source": []
  }
 ]
}