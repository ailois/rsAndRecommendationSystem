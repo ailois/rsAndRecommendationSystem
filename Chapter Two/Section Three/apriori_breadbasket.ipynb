{
 "nbformat": 4,
 "nbformat_minor": 2,
 "metadata": {
  "language_info": {
   "name": "python",
   "codemirror_mode": {
    "name": "ipython",
    "version": 3
   },
   "version": "3.7.4-final"
  },
  "orig_nbformat": 2,
  "file_extension": ".py",
  "mimetype": "text/x-python",
  "name": "python",
  "npconvert_exporter": "python",
  "pygments_lexer": "ipython3",
  "version": 3,
  "kernelspec": {
   "name": "python37464bitbaseconda68d4c1b18059495ab3f7b8c839aeb166",
   "display_name": "Python 3.7.4 64-bit ('base': conda)"
  }
 },
 "cells": [
  {
   "cell_type": "code",
   "execution_count": 1,
   "metadata": {},
   "outputs": [],
   "source": [
    "import pandas as pd\n",
    "import time"
   ]
  },
  {
   "cell_type": "code",
   "execution_count": 2,
   "metadata": {},
   "outputs": [],
   "source": [
    "# 数据加载\n",
    "data = pd.read_csv('BreadBasket_DMS.csv')\n",
    "# 统一小写\n",
    "data['Item'] = data['Item'].str.lower()\n",
    "# 去掉none项\n",
    "data = data.drop(data[data.Item == 'none'].index)"
   ]
  },
  {
   "cell_type": "code",
   "execution_count": 3,
   "metadata": {},
   "outputs": [],
   "source": [
    "# 采用efficient_apriori工具包\n",
    "def rule1():\n",
    "    from efficient_apriori import apriori\n",
    "    start = time.time()\n",
    "    # 得到一维数组orders_series,并且将Transaction作为index,value为Item取值\n",
    "    order_series = data.set_index('Transaction')['Item']\n",
    "    # 将数据集进行格式转换\n",
    "    transactions = []\n",
    "    temp_index = 0\n",
    "    for i, v in order_series.items():\n",
    "        if i != temp_index:\n",
    "            temp_set = set()\n",
    "            temp_index = i\n",
    "            temp_set.add(v)\n",
    "            transactions.append(temp_set)\n",
    "        else:\n",
    "            temp_set.add(v)\n",
    "\n",
    "    # 挖掘频繁项集和频繁规则\n",
    "    itemsets, rules = apriori(transactions, min_support=0.02, min_confidence=0.5)\n",
    "    print('频繁项集: ', itemsets)\n",
    "    print('关联规则: ', rules)\n",
    "    end = time.time()\n",
    "    print('用时: ',end-start)"
   ]
  },
  {
   "cell_type": "code",
   "execution_count": 4,
   "metadata": {},
   "outputs": [],
   "source": [
    "def encode_units(x):\n",
    "    if x <= 0:\n",
    "        return 0\n",
    "    if x >= 1:\n",
    "        return 1"
   ]
  },
  {
   "cell_type": "code",
   "execution_count": 5,
   "metadata": {},
   "outputs": [],
   "source": [
    "# 采用mlxtend.frequent_patterns工具包\n",
    "def rule2():\n",
    "    from mlxtend.frequent_patterns import apriori\n",
    "    from mlxtend.frequent_patterns import association_rules\n",
    "    pd.options.display.max_columns = 100\n",
    "    start = time.time()\n",
    "    hot_encoded_df = data.groupby(['Transaction','Item'])['Item'].count().unstack().reset_index().fillna(0).set_index('Transaction')\n",
    "    hot_encoded_df = hot_encoded_df.applymap(encode_units)\n",
    "    frequent_itemsets = apriori(hot_encoded_df, min_support=0.02, use_colnames=True)\n",
    "    rules = association_rules(frequent_itemsets, metric='lift', min_threshold=0.5)\n",
    "    print(\"频繁项集: \", frequent_itemsets)\n",
    "    print(\"关联规则: \", rules[ (rules['lift'] >= 1) & (rules['confidence'] >= 0.5)])\n",
    "    # print(rules['confidence'])\n",
    "    end = time.time()\n",
    "    print(\"用时: \", end-start)"
   ]
  },
  {
   "cell_type": "code",
   "execution_count": 6,
   "metadata": {},
   "outputs": [
    {
     "name": "stdout",
     "output_type": "stream",
     "text": "频繁项集:  {1: {('alfajores',): 344, ('bread',): 3096, ('brownie',): 379, ('cake',): 983, ('coffee',): 4528, ('cookies',): 515, ('farm house',): 371, ('hot chocolate',): 552, ('juice',): 365, ('medialuna',): 585, ('muffin',): 364, ('pastry',): 815, ('sandwich',): 680, ('scandinavian',): 275, ('scone',): 327, ('soup',): 326, ('tea',): 1350, ('toast',): 318, ('truffles',): 192}, 2: {('bread', 'cake'): 221, ('bread', 'coffee'): 852, ('bread', 'pastry'): 276, ('bread', 'tea'): 266, ('cake', 'coffee'): 518, ('cake', 'tea'): 225, ('coffee', 'cookies'): 267, ('coffee', 'hot chocolate'): 280, ('coffee', 'juice'): 195, ('coffee', 'medialuna'): 333, ('coffee', 'pastry'): 450, ('coffee', 'sandwich'): 362, ('coffee', 'tea'): 472, ('coffee', 'toast'): 224}}\n关联规则:  [{cake} -> {coffee}, {cookies} -> {coffee}, {hot chocolate} -> {coffee}, {juice} -> {coffee}, {medialuna} -> {coffee}, {pastry} -> {coffee}, {sandwich} -> {coffee}, {toast} -> {coffee}]\n用时:  0.12666034698486328\n----------------------------------------------------------------------------------------------------\n频繁项集:       support                 itemsets\n0   0.036348              (alfajores)\n1   0.327134                  (bread)\n2   0.040046                (brownie)\n3   0.103867                   (cake)\n4   0.478445                 (coffee)\n5   0.054417                (cookies)\n6   0.039201             (farm house)\n7   0.058326          (hot chocolate)\n8   0.038567                  (juice)\n9   0.061813              (medialuna)\n10  0.038462                 (muffin)\n11  0.086116                 (pastry)\n12  0.071851               (sandwich)\n13  0.029057           (scandinavian)\n14  0.034552                  (scone)\n15  0.034446                   (soup)\n16  0.142646                    (tea)\n17  0.033601                  (toast)\n18  0.020287               (truffles)\n19  0.023352            (bread, cake)\n20  0.090025          (coffee, bread)\n21  0.029163          (bread, pastry)\n22  0.028107             (bread, tea)\n23  0.054734           (coffee, cake)\n24  0.023774              (tea, cake)\n25  0.028212        (coffee, cookies)\n26  0.029586  (coffee, hot chocolate)\n27  0.020604          (coffee, juice)\n28  0.035186      (coffee, medialuna)\n29  0.047549         (coffee, pastry)\n30  0.038250       (coffee, sandwich)\n31  0.049873            (coffee, tea)\n32  0.023669          (toast, coffee)\n关联规则:          antecedents consequents  antecedent support  consequent support  \\\n9            (cake)    (coffee)            0.103867            0.478445   \n13        (cookies)    (coffee)            0.054417            0.478445   \n15  (hot chocolate)    (coffee)            0.058326            0.478445   \n17          (juice)    (coffee)            0.038567            0.478445   \n19      (medialuna)    (coffee)            0.061813            0.478445   \n21         (pastry)    (coffee)            0.086116            0.478445   \n23       (sandwich)    (coffee)            0.071851            0.478445   \n26          (toast)    (coffee)            0.033601            0.478445   \n\n     support  confidence      lift  leverage  conviction  \n9   0.054734    0.526958  1.101399  0.005039    1.102557  \n13  0.028212    0.518447  1.083608  0.002177    1.083069  \n15  0.029586    0.507246  1.060199  0.001680    1.058451  \n17  0.020604    0.534247  1.116632  0.002152    1.119810  \n19  0.035186    0.569231  1.189753  0.005612    1.210754  \n21  0.047549    0.552147  1.154046  0.006347    1.164569  \n23  0.038250    0.532353  1.112674  0.003873    1.115276  \n26  0.023669    0.704403  1.472276  0.007592    1.764411  \n用时:  0.35068178176879883\n"
    }
   ],
   "source": [
    "rule1()\n",
    "print('-'*100)\n",
    "rule2()"
   ]
  },
  {
   "cell_type": "code",
   "execution_count": null,
   "metadata": {},
   "outputs": [],
   "source": []
  }
 ]
}