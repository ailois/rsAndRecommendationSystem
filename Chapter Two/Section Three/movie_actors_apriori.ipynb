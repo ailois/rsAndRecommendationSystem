{
 "nbformat": 4,
 "nbformat_minor": 2,
 "metadata": {
  "language_info": {
   "name": "python",
   "codemirror_mode": {
    "name": "ipython",
    "version": 3
   },
   "version": "3.7.4-final"
  },
  "orig_nbformat": 2,
  "file_extension": ".py",
  "mimetype": "text/x-python",
  "name": "python",
  "npconvert_exporter": "python",
  "pygments_lexer": "ipython3",
  "version": 3,
  "kernelspec": {
   "name": "python37464bitbaseconda68d4c1b18059495ab3f7b8c839aeb166",
   "display_name": "Python 3.7.4 64-bit ('base': conda)"
  }
 },
 "cells": [
  {
   "cell_type": "code",
   "execution_count": 1,
   "metadata": {},
   "outputs": [],
   "source": [
    "# 分析MovieLens 电影分类中的频繁项集和关联规则\n",
    "import pandas as pd\n",
    "from mlxtend.frequent_patterns import apriori\n",
    "from mlxtend.frequent_patterns import association_rules"
   ]
  },
  {
   "cell_type": "code",
   "execution_count": 2,
   "metadata": {},
   "outputs": [
    {
     "name": "stdout",
     "output_type": "stream",
     "text": "title  GangZhao  LukeZhiGangLiu  PengZhenZhong  YuanFang  一纳  \\\n0       囧妈‎ (2020)         0               0              0         0   0   \n1    我不是药神‎ (2018)         0               0              0         0   0   \n2   我和我的祖国‎ (2019)         0               0              0         0   0   \n3   疯狂的外星人‎ (2019)         0               0              0         0   0   \n4  人再囧途之泰囧‎ (2012)         0               0              0         0   0   \n\n   丁嘉丽  丁志城  丁志诚  丁黑  万弘杰  严敏  严晓频  中孝介  丹尼尔·海尼  乔任梁  九孔  于和伟  于波  于荣光  于谦  \\\n0    0    0    0   0    0   0    0    0       0    0   0    0   0    0   0   \n1    0    0    0   0    0   0    0    0       0    0   0    0   0    0   0   \n2    0    0    0   0    0   0    0    0       0    0   0    0   0    0   0   \n3    0    0    0   0    0   0    0    0       0    0   0    1   0    0   0   \n4    0    0    0   0    0   0    0    0       0    0   0    0   0    0   0   \n\n   仁龙  付连智  任达华  任静  任鹏远  伊一  伊春德  伊能静  伊莎贝尔·于佩尔  优恵  何念  何炅  何琳  余彬  余文乐  余男  \\\n0   0    0    0   0    0   0    0    0         0   0   0   0   0   0    0   0   \n1   0    0    0   0    0   0    0    0         0   0   0   0   0   0    0   0   \n2   0    0    0   0    0   0    0    0         0   0   0   0   0   0    0   0   \n3   0    0    0   0    0   0    0    0         0   0   0   0   0   0    0   0   \n4   0    0    0   0    0   0    0    0         0   0   0   0   0   0    0   0   \n\n   佟丽娅  佟大为  佟瑞欣  侯勇  侯梦莎  保剑锋  俞杭英  倪虹洁  傅东育  傅彪  傅浤鸣  傅艺伟  克里斯·帕拉特  ...  \\\n0    0    0    0   0    0    0    0    0    0   0    0    0        0  ...   \n1    0    0    0   0    0    0    0    0    0   0    0    0        0  ...   \n2    0    0    0   0    0    0    0    0    0   0    0    0        0  ...   \n3    0    0    0   0    0    0    0    0    0   0    0    0        0  ...   \n4    0    0    0   0    0    0    0    0    0   0    0    0        0  ...   \n\n   陈逸宁  陶慧  陶晶莹  陶白莉  陶虹  隋兰  雷佳音  雷恪生  雷蒙德·雷德  霍建起  鞠觉亮  韩三平  韩东君  韩庚  韩昊霖  \\\n0    0   0    0    0   0   0    0    0       0    0    0    0    0   0    0   \n1    0   0    0    0   0   0    0    0       0    0    0    0    0   0    0   \n2    0   0    0    0   0   0    0    0       0    0    0    0    0   0    1   \n3    0   0    0    0   0   0    1    0       0    0    0    0    0   0    0   \n4    0   0    0    0   1   0    0    0       0    0    0    0    0   0    0   \n\n   颜丙燕  马东  马修·莫里森  马健  马少骅  马思纯  马晓伟  马特·弗里沃  马苏  高一功  高以翔  高圆圆  高宝宝  高捷  高鑫  \\\n0    0   0       0   0    0    0    0       0   0    0    1    0    0   0   0   \n1    0   0       0   0    0    0    0       0   0    0    0    0    0   0   0   \n2    0   0       0   0    0    0    0       0   0    0    0    0    0   0   0   \n3    0   0       1   0    0    0    0       0   0    0    0    0    0   0   0   \n4    0   0       0   0    0    0    0       0   0    0    0    0    0   0   0   \n\n   魏宗万  魏积安  鲍国安  麦斯·米科尔森  黄奕  黄宏  黄小蕾  黄尧  黄建新  黄晓明  黄景瑜  黄梅莹  黄渤  黄磊  黄蜀芹  \\\n0    0    0    0        0   0   0    0   0    0    0    1    1   0   0    0   \n1    0    0    0        0   0   0    0   0    0    0    0    0   0   0    0   \n2    0    0    0        0   0   0    0   0    0    0    0    0   1   0    0   \n3    0    0    0        0   0   0    0   0    0    0    0    0   1   0    0   \n4    0    0    0        0   0   0    0   0    0    0    0    0   1   0    0   \n\n   黄轩  黄达亮  黄龄  黎明  黑泽清  \n0   0    0   0   0    0  \n1   0    0   0   0    0  \n2   0    0   0   0    0  \n3   0    0   0   0    0  \n4   0    0   0   0    0  \n\n[5 rows x 494 columns]\n"
    }
   ],
   "source": [
    "# 数据加载\n",
    "movies = pd.read_csv('movie_actors.csv')\n",
    "# print(movies.head())\n",
    "# 将genres进行one-hot编码(离散特征有多少取值,就用多少维来表示这个特征)\n",
    "movies_hot_encoded = movies.drop('actors',1).join(movies.actors.str.get_dummies('/'))\n",
    "pd.options.display.max_columns=100\n",
    "print(movies_hot_encoded.head())"
   ]
  },
  {
   "cell_type": "code",
   "execution_count": 3,
   "metadata": {},
   "outputs": [
    {
     "name": "stdout",
     "output_type": "stream",
     "text": "-------------------- 频繁项集 --------------------\n     support      itemsets\n2   0.742268          (徐峥)\n7   0.154639          (黄渤)\n11  0.092784      (黄渤, 徐峥)\n1   0.072165          (宁浩)\n0   0.061856         (于和伟)\n6   0.061856          (陶虹)\n8   0.061856      (徐峥, 宁浩)\n9   0.061856      (黄渤, 宁浩)\n13  0.061856  (黄渤, 徐峥, 宁浩)\n3   0.051546         (王宝强)\n4   0.051546          (王迅)\n5   0.051546         (陈凯歌)\n10  0.051546      (陶虹, 徐峥)\n12  0.051546      (黄渤, 王迅)\n-------------------- 关联规则 --------------------\n  antecedents consequents  antecedent support  consequent support   support  \\\n2    (黄渤, 徐峥)        (宁浩)            0.092784            0.072165  0.061856   \n5        (宁浩)    (黄渤, 徐峥)            0.072165            0.092784  0.061856   \n3    (徐峥, 宁浩)        (黄渤)            0.061856            0.154639  0.061856   \n4        (黄渤)    (徐峥, 宁浩)            0.154639            0.061856  0.061856   \n6        (黄渤)        (王迅)            0.154639            0.051546  0.051546   \n7        (王迅)        (黄渤)            0.051546            0.154639  0.051546   \n0        (黄渤)        (宁浩)            0.154639            0.072165  0.061856   \n1        (宁浩)        (黄渤)            0.072165            0.154639  0.061856   \n\n   confidence      lift  leverage  conviction  \n2    0.666667  9.238095  0.055160    2.783505  \n5    0.857143  9.238095  0.055160    6.350515  \n3    1.000000  6.466667  0.052290         inf  \n4    0.400000  6.466667  0.052290    1.563574  \n6    0.333333  6.466667  0.043575    1.422680  \n7    1.000000  6.466667  0.043575         inf  \n0    0.400000  5.542857  0.050696    1.546392  \n1    0.857143  5.542857  0.050696    5.917526  \n"
    }
   ],
   "source": [
    "# 将movieId, title设置为index\n",
    "movies_hot_encoded.set_index(['title'],inplace=True)\n",
    "# print(movies_hot_encoded.head())\n",
    "# 挖掘频繁项集,最小支持度为0.02\n",
    "itemsets = apriori(movies_hot_encoded,use_colnames=True,min_support=0.05)\n",
    "# 按照支持度从大到小进行排序\n",
    "itemsets = itemsets.sort_values(by='support',ascending=False)\n",
    "print('-'*20,'频繁项集','-'*20)\n",
    "print(itemsets)\n",
    "# 根据频繁项集计算关联规则,设置最小提升度为2\n",
    "rules = association_rules(itemsets,metric='lift',min_threshold=2)\n",
    "# 按照提升度从大到小进行排序\n",
    "rules = rules.sort_values(by=\"lift\" , ascending=False) \n",
    "rules.to_csv('./rules.csv',encoding='gbk')\n",
    "print('-'*20, '关联规则', '-'*20)\n",
    "print(rules)"
   ]
  },
  {
   "cell_type": "code",
   "execution_count": null,
   "metadata": {},
   "outputs": [],
   "source": []
  },
  {
   "cell_type": "code",
   "execution_count": null,
   "metadata": {},
   "outputs": [],
   "source": []
  },
  {
   "cell_type": "code",
   "execution_count": null,
   "metadata": {},
   "outputs": [],
   "source": []
  },
  {
   "cell_type": "code",
   "execution_count": null,
   "metadata": {},
   "outputs": [],
   "source": []
  }
 ]
}