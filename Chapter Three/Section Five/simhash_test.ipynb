{
 "nbformat": 4,
 "nbformat_minor": 2,
 "metadata": {
  "language_info": {
   "name": "python",
   "codemirror_mode": {
    "name": "ipython",
    "version": 3
   },
   "version": "3.7.4-final"
  },
  "orig_nbformat": 2,
  "file_extension": ".py",
  "mimetype": "text/x-python",
  "name": "python",
  "npconvert_exporter": "python",
  "pygments_lexer": "ipython3",
  "version": 3,
  "kernelspec": {
   "name": "python37464bitbaseconda68d4c1b18059495ab3f7b8c839aeb166",
   "display_name": "Python 3.7.4 64-bit ('base': conda)"
  }
 },
 "cells": [
  {
   "cell_type": "code",
   "execution_count": 1,
   "metadata": {},
   "outputs": [],
   "source": [
    "# -*- coding: utf-8 -*-\n",
    "from sklearn.feature_extraction.text import TfidfVectorizer\n",
    "from simhash import Simhash, SimhashIndex"
   ]
  },
  {
   "cell_type": "code",
   "execution_count": 2,
   "metadata": {},
   "outputs": [],
   "source": [
    "#print(Simhash('这个程序代码太乱').value)\n",
    "#print(Simhash('1').distance(Simhash('2')))\n",
    "#sh1 = Simhash(u'这个程序代码太乱,那个代码规范')\n",
    "#sh2 = Simhash(u'这个程序代码不规范,那个更规范')\n",
    "#print(sh1.value)\n",
    "#print(sh2.value)\n",
    "#print(sh1.distance(sh2))"
   ]
  },
  {
   "cell_type": "code",
   "execution_count": 3,
   "metadata": {},
   "outputs": [],
   "source": [
    "data = [\n",
    "    '这个程序代码太乱,那个代码规范',\n",
    "    '这个程序代码不规范,那个更规范',\n",
    "    '我是佩奇，这是我的弟弟乔治'\n",
    "]"
   ]
  },
  {
   "cell_type": "code",
   "execution_count": 4,
   "metadata": {},
   "outputs": [],
   "source": [
    "data = [\n",
    "    '这个 程序 代码 太乱 那个 代码 规范',\n",
    "    '这个 程序 代码 不 规范 那个 更 规范',\n",
    "    '我 是 佩奇 这 是 我的 弟弟 乔治'\n",
    "]"
   ]
  },
  {
   "cell_type": "code",
   "execution_count": 5,
   "metadata": {},
   "outputs": [],
   "source": [
    "vec = TfidfVectorizer()\n",
    "D = vec.fit_transform(data)\n",
    "voc = dict((i, w) for w, i in vec.vocabulary_.items())\n",
    "# print(voc)"
   ]
  },
  {
   "cell_type": "code",
   "execution_count": 6,
   "metadata": {},
   "outputs": [],
   "source": [
    "# 生成Simhash\n",
    "sh_list = []\n",
    "for i in range(D.shape[0]):\n",
    "    Di = D.getrow(i)\n",
    "    # print(Di.indices)\n",
    "    # print(Di.data)\n",
    "    # features表示 (token, weight)元祖形式的列表\n",
    "    features = zip([voc[j] for j in Di.indices], Di.data)\n",
    "    sh_list.append(Simhash(features))"
   ]
  },
  {
   "cell_type": "code",
   "execution_count": 7,
   "metadata": {},
   "outputs": [
    {
     "name": "stdout",
     "output_type": "stream",
     "text": "16\n32\n38\n"
    }
   ],
   "source": [
    "print(sh_list[0].distance(sh_list[1]))\n",
    "print(sh_list[0].distance(sh_list[2]))\n",
    "print(sh_list[1].distance(sh_list[2]))"
   ]
  },
  {
   "cell_type": "code",
   "execution_count": null,
   "metadata": {},
   "outputs": [],
   "source": []
  },
  {
   "cell_type": "code",
   "execution_count": null,
   "metadata": {},
   "outputs": [],
   "source": []
  }
 ]
}