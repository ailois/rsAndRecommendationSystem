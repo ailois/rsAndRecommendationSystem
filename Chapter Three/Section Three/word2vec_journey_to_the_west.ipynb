{
 "nbformat": 4,
 "nbformat_minor": 2,
 "metadata": {
  "language_info": {
   "name": "python",
   "codemirror_mode": {
    "name": "ipython",
    "version": 3
   },
   "version": "3.7.4-final"
  },
  "orig_nbformat": 2,
  "file_extension": ".py",
  "mimetype": "text/x-python",
  "name": "python",
  "npconvert_exporter": "python",
  "pygments_lexer": "ipython3",
  "version": 3,
  "kernelspec": {
   "name": "python37464bitbaseconda68d4c1b18059495ab3f7b8c839aeb166",
   "display_name": "Python 3.7.4 64-bit ('base': conda)"
  }
 },
 "cells": [
  {
   "cell_type": "code",
   "execution_count": 1,
   "metadata": {},
   "outputs": [],
   "source": [
    "# -*-coding: utf-8 -*-\n",
    "# 对txt文件进行中文分词\n",
    "import jieba\n",
    "import os\n",
    "from utils import files_processing\n",
    "from gensim.models import word2vec\n",
    "import multiprocessing"
   ]
  },
  {
   "cell_type": "code",
   "execution_count": 2,
   "metadata": {},
   "outputs": [],
   "source": [
    "# 源文件所在目录\n",
    "source_folder = 'journey_to_the_west/source'\n",
    "segment_folder = 'journey_to_the_west/segment'"
   ]
  },
  {
   "cell_type": "code",
   "execution_count": 3,
   "metadata": {},
   "outputs": [],
   "source": [
    "# 字词分割, 对整个文件内容进行字词分割\n",
    "def segment_lines(file_list, segment_out_dir, stopwords=[]):\n",
    "    for i, file in enumerate(file_list):\n",
    "        segment_out_name = os.path.join(segment_out_dir, 'segment_{}.txt'.format(i))\n",
    "        with open(file, 'rb') as f:\n",
    "            document = f.read()\n",
    "            document_cut = jieba.cut(document)\n",
    "            sentence_segment=[]\n",
    "            for word in document_cut:\n",
    "                if word not in stopwords:\n",
    "                    sentence_segment.append(word)\n",
    "            result = ' '.join(sentence_segment)\n",
    "            result = result.encode('utf-8')\n",
    "            with open(segment_out_name, 'wb') as f2:\n",
    "                f2.write(result)"
   ]
  },
  {
   "cell_type": "code",
   "execution_count": 4,
   "metadata": {},
   "outputs": [
    {
     "name": "stderr",
     "output_type": "stream",
     "text": "Building prefix dict from the default dictionary ...\nLoading model from cache C:\\Users\\Public\\Documents\\Wondershare\\CreatorTemp\\jieba.cache\nLoading model cost 0.643 seconds.\nPrefix dict has been built successfully.\n"
    }
   ],
   "source": [
    "# 对source中的txt文件进行分词, 输出到segment目录中\n",
    "file_list = files_processing.get_files_list(source_folder, postfix='*.txt')\n",
    "segment_lines(file_list, segment_folder)"
   ]
  },
  {
   "cell_type": "code",
   "execution_count": 5,
   "metadata": {},
   "outputs": [],
   "source": [
    "# 如果目录中有多个文件,可以使用PathLineSentences\n",
    "segment_folder = 'journey_to_the_west/segment'\n",
    "sentences = word2vec.PathLineSentences(segment_folder)"
   ]
  },
  {
   "cell_type": "code",
   "execution_count": 6,
   "metadata": {},
   "outputs": [
    {
     "name": "stdout",
     "output_type": "stream",
     "text": "0.9741327\n0.9879307\n[('大王', 0.9892846941947937), ('老', 0.9856665134429932), ('长老', 0.9854872226715088), ('师兄', 0.9850565195083618), ('师父', 0.982231616973877), ('菩萨', 0.9817495346069336), ('且莫', 0.9815806150436401), ('陛下', 0.9813356995582581), ('童儿', 0.981283962726593), ('老爷', 0.98109370470047)]\n0.9719933\n0.956543\n[('菩萨', 0.9568045139312744), ('寇洪', 0.9423361420631409), ('众', 0.9411749839782715), ('国王', 0.9405077695846558), ('长老', 0.9337571859359741), ('天王', 0.9297986030578613), ('大仙', 0.9239134192466736), ('土地', 0.9230658411979675), ('应承', 0.9212400317192078), ('大喜', 0.9206739664077759)]\n"
    }
   ],
   "source": [
    "model = word2vec.Word2Vec(sentences, size=100, window=3, min_count=1)\n",
    "print(model.wv.similarity('孙悟空', '猪八戒'))\n",
    "print(model.wv.similarity('孙悟空', '孙行者'))\n",
    "print(model.wv.most_similar(positive=['孙悟空', '唐僧'], negative=['孙行者']))\n",
    "# 设置模型参数，进行训练\n",
    "model2 = word2vec.Word2Vec(sentences, size=128, window=5, min_count=5, workers=multiprocessing.cpu_count())\n",
    "# 保存模型\n",
    "model2.save('models/word2Vec.model')\n",
    "print(model2.wv.similarity('孙悟空', '猪八戒'))\n",
    "print(model2.wv.similarity('孙悟空', '孙行者'))\n",
    "print(model2.wv.most_similar(positive=['孙悟空', '唐僧'], negative=['孙行者']))"
   ]
  },
  {
   "cell_type": "code",
   "execution_count": null,
   "metadata": {},
   "outputs": [],
   "source": []
  }
 ]
}