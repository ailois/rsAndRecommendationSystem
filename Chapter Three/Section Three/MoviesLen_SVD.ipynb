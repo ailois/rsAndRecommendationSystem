{
  "nbformat": 4,
  "nbformat_minor": 0,
  "metadata": {
    "colab": {
      "name": "MoviesLen_SVD.ipynb",
      "provenance": [],
      "collapsed_sections": []
    },
    "kernelspec": {
      "name": "python3",
      "display_name": "Python 3"
    },
    "accelerator": "GPU"
  },
  "cells": [
    {
      "cell_type": "code",
      "metadata": {
        "id": "gWlfI7sGD2jo",
        "colab_type": "code",
        "colab": {}
      },
      "source": [
        "!pip install scikit-surprise"
      ],
      "execution_count": 0,
      "outputs": []
    },
    {
      "cell_type": "code",
      "metadata": {
        "id": "s2pDN-0YD3VZ",
        "colab_type": "code",
        "colab": {
          "base_uri": "https://localhost:8080/",
          "height": 145
        },
        "outputId": "819770f5-1aac-4f93-9962-d8b78ddb993d"
      },
      "source": [
        "import os\n",
        "from google.colab import drive\n",
        "drive.mount('/content/drive')\n",
        "\n",
        "path = \"/content/drive/My Drive\"\n",
        "\n",
        "os.chdir(path)\n",
        "os.listdir(path)"
      ],
      "execution_count": 2,
      "outputs": [
        {
          "output_type": "stream",
          "text": [
            "Go to this URL in a browser: https://accounts.google.com/o/oauth2/auth?client_id=947318989803-6bn6qk8qdgf4n4g3pfee6491hc0brc4i.apps.googleusercontent.com&redirect_uri=urn%3aietf%3awg%3aoauth%3a2.0%3aoob&response_type=code&scope=email%20https%3a%2f%2fwww.googleapis.com%2fauth%2fdocs.test%20https%3a%2f%2fwww.googleapis.com%2fauth%2fdrive%20https%3a%2f%2fwww.googleapis.com%2fauth%2fdrive.photos.readonly%20https%3a%2f%2fwww.googleapis.com%2fauth%2fpeopleapi.readonly\n",
            "\n",
            "Enter your authorization code:\n",
            "··········\n",
            "Mounted at /content/drive\n"
          ],
          "name": "stdout"
        },
        {
          "output_type": "execute_result",
          "data": {
            "text/plain": [
              "['Colab Notebooks']"
            ]
          },
          "metadata": {
            "tags": []
          },
          "execution_count": 2
        }
      ]
    },
    {
      "cell_type": "code",
      "metadata": {
        "id": "qML3zt6oEAPz",
        "colab_type": "code",
        "colab": {}
      },
      "source": [
        "from surprise import SVD,SVDpp\n",
        "from surprise import Dataset\n",
        "from surprise.model_selection import cross_validate\n",
        "from surprise import Reader\n",
        "from surprise import accuracy\n",
        "from surprise.model_selection import KFold\n",
        "import pandas as pd\n",
        "import time\n",
        "import os"
      ],
      "execution_count": 0,
      "outputs": []
    },
    {
      "cell_type": "code",
      "metadata": {
        "id": "S9bkBzA6EHKi",
        "colab_type": "code",
        "colab": {}
      },
      "source": [
        "# 数据读取\n",
        "reader = Reader(line_format='user item rating timestamp', sep=',', skip_lines=1)\n",
        "data = Dataset.load_from_file('/content/drive/My Drive/Colab Notebooks/ratings.csv', reader=reader)\n",
        "train_set = data.build_full_trainset()"
      ],
      "execution_count": 0,
      "outputs": []
    },
    {
      "cell_type": "code",
      "metadata": {
        "id": "mMM3qOpyMb0J",
        "colab_type": "code",
        "colab": {}
      },
      "source": [
        "def funkSVD():\n",
        "    # 使用FunkSVD\n",
        "    algo = SVD(biased=False)\n",
        "    # 定义k折交叉验证迭代器, K=3\n",
        "    kf = KFold(n_splits=3)\n",
        "    for trainset, testset in kf.split(data):\n",
        "        # 训练并预测\n",
        "        algo.fit(trainset)\n",
        "        predictions = algo.test(testset)\n",
        "        # 计算RMSE\n",
        "        accuracy.rmse(predictions, verbose=True)"
      ],
      "execution_count": 0,
      "outputs": []
    },
    {
      "cell_type": "code",
      "metadata": {
        "id": "pJ45m5ISMb83",
        "colab_type": "code",
        "colab": {}
      },
      "source": [
        "def biasSVD():\n",
        "    # 使用BiasSVD\n",
        "    algo = SVD(biased=True)\n",
        "    # 定义k折交叉验证迭代器, K=3\n",
        "    kf = KFold(n_splits=3)\n",
        "    for trainset, testset in kf.split(data):\n",
        "        # 训练并预测\n",
        "        algo.fit(trainset)\n",
        "        predictions = algo.test(testset)\n",
        "        # 计算RMSE\n",
        "        accuracy.rmse(predictions, verbose=True)"
      ],
      "execution_count": 0,
      "outputs": []
    },
    {
      "cell_type": "code",
      "metadata": {
        "id": "Erjva3MsMcEP",
        "colab_type": "code",
        "colab": {}
      },
      "source": [
        "def SVD_Plus():\n",
        "    # 使用SVD++\n",
        "    algo = SVDpp()\n",
        "    # 定义k折交叉验证迭代器, K=3\n",
        "    kf = KFold(n_splits=3)\n",
        "    for trainset, testset in kf.split(data):\n",
        "        # 训练并预测\n",
        "        algo.fit(trainset)\n",
        "        predictions = algo.test(testset)\n",
        "        # 计算RMSE\n",
        "        accuracy.rmse(predictions, verbose=True)"
      ],
      "execution_count": 0,
      "outputs": []
    },
    {
      "cell_type": "code",
      "metadata": {
        "id": "FQbDTJqeMcJv",
        "colab_type": "code",
        "colab": {
          "base_uri": "https://localhost:8080/",
          "height": 71
        },
        "outputId": "fabe42f5-b8ae-4656-8e9c-a1aa69884803"
      },
      "source": [
        "funkSVD()"
      ],
      "execution_count": 9,
      "outputs": [
        {
          "output_type": "stream",
          "text": [
            "RMSE: 0.8723\n",
            "RMSE: 0.8714\n",
            "RMSE: 0.8711\n"
          ],
          "name": "stdout"
        }
      ]
    },
    {
      "cell_type": "code",
      "metadata": {
        "id": "Q3KfCYAcMjMm",
        "colab_type": "code",
        "colab": {
          "base_uri": "https://localhost:8080/",
          "height": 71
        },
        "outputId": "a0ef1336-d7a9-48c9-ac4d-5b12221b9d1b"
      },
      "source": [
        "biasSVD()"
      ],
      "execution_count": 10,
      "outputs": [
        {
          "output_type": "stream",
          "text": [
            "RMSE: 0.8432\n",
            "RMSE: 0.8439\n",
            "RMSE: 0.8450\n"
          ],
          "name": "stdout"
        }
      ]
    },
    {
      "cell_type": "code",
      "metadata": {
        "id": "Uha5w_IeMjR_",
        "colab_type": "code",
        "colab": {
          "base_uri": "https://localhost:8080/",
          "height": 71
        },
        "outputId": "898be506-2859-46e3-9a97-0fed3e1b4b6e"
      },
      "source": [
        "SVD_Plus()"
      ],
      "execution_count": 8,
      "outputs": [
        {
          "output_type": "stream",
          "text": [
            "RMSE: 0.8299\n",
            "RMSE: 0.8290\n",
            "RMSE: 0.8300\n"
          ],
          "name": "stdout"
        }
      ]
    },
    {
      "cell_type": "code",
      "metadata": {
        "id": "E4zR2TczNWnp",
        "colab_type": "code",
        "colab": {}
      },
      "source": [
        ""
      ],
      "execution_count": 0,
      "outputs": []
    }
  ]
}