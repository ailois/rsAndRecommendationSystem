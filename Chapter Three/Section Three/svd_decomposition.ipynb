{
 "nbformat": 4,
 "nbformat_minor": 2,
 "metadata": {
  "language_info": {
   "name": "python",
   "codemirror_mode": {
    "name": "ipython",
    "version": 3
   },
   "version": "3.7.4-final"
  },
  "orig_nbformat": 2,
  "file_extension": ".py",
  "mimetype": "text/x-python",
  "name": "python",
  "npconvert_exporter": "python",
  "pygments_lexer": "ipython3",
  "version": 3,
  "kernelspec": {
   "name": "python37464bitbaseconda68d4c1b18059495ab3f7b8c839aeb166",
   "display_name": "Python 3.7.4 64-bit ('base': conda)"
  }
 },
 "cells": [
  {
   "cell_type": "code",
   "execution_count": 1,
   "metadata": {},
   "outputs": [],
   "source": [
    "# 矩阵的奇异值分解\n",
    "import numpy as np\n",
    "A = np.array([[1,2],\n",
    "\t        [1,1],\n",
    "\t        [0,0]])"
   ]
  },
  {
   "cell_type": "code",
   "execution_count": 2,
   "metadata": {},
   "outputs": [
    {
     "name": "stdout",
     "output_type": "stream",
     "text": "[[1 1 0]\n [2 1 0]]\n"
    }
   ],
   "source": [
    "print(A.T)"
   ]
  },
  {
   "cell_type": "code",
   "execution_count": 3,
   "metadata": {},
   "outputs": [
    {
     "name": "stdout",
     "output_type": "stream",
     "text": "[[5 3 0]\n [3 2 0]\n [0 0 0]]\n[[2 3]\n [3 5]]\n"
    }
   ],
   "source": [
    "temp1 = np.dot(A, A.T)\n",
    "temp2 = np.dot(A.T, A)\n",
    "print(temp1)\n",
    "print(temp2)"
   ]
  },
  {
   "cell_type": "code",
   "execution_count": 4,
   "metadata": {},
   "outputs": [],
   "source": [
    "#A = np.array([[5,1],\n",
    "#\t        [1,1]])"
   ]
  },
  {
   "cell_type": "code",
   "execution_count": 5,
   "metadata": {},
   "outputs": [
    {
     "name": "stdout",
     "output_type": "stream",
     "text": "[6.85410197 0.14589803 0.        ]\n[[ 0.85065081 -0.52573111  0.        ]\n [ 0.52573111  0.85065081  0.        ]\n [ 0.          0.          1.        ]]\n[0.14589803 6.85410197]\n[[-0.85065081 -0.52573111]\n [ 0.52573111 -0.85065081]]\n"
    }
   ],
   "source": [
    "lamda1, U1 = np.linalg.eig(temp1)\n",
    "print(lamda1)\n",
    "print(U1)\n",
    "lamda2, U2 = np.linalg.eig(temp2)\n",
    "print(lamda2)\n",
    "print(U2)"
   ]
  },
  {
   "cell_type": "code",
   "execution_count": null,
   "metadata": {},
   "outputs": [],
   "source": []
  }
 ]
}