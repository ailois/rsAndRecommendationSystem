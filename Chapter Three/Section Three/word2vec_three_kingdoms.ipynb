{
 "nbformat": 4,
 "nbformat_minor": 2,
 "metadata": {
  "language_info": {
   "name": "python",
   "codemirror_mode": {
    "name": "ipython",
    "version": 3
   },
   "version": "3.7.4-final"
  },
  "orig_nbformat": 2,
  "file_extension": ".py",
  "mimetype": "text/x-python",
  "name": "python",
  "npconvert_exporter": "python",
  "pygments_lexer": "ipython3",
  "version": 3,
  "kernelspec": {
   "name": "python37464bitbaseconda68d4c1b18059495ab3f7b8c839aeb166",
   "display_name": "Python 3.7.4 64-bit ('base': conda)"
  }
 },
 "cells": [
  {
   "cell_type": "code",
   "execution_count": 1,
   "metadata": {},
   "outputs": [],
   "source": [
    "# -*-coding: utf-8 -*-\n",
    "# 对txt文件进行中文分词\n",
    "import jieba\n",
    "import os\n",
    "from utils import files_processing\n",
    "from gensim.models import word2vec\n",
    "import multiprocessing"
   ]
  },
  {
   "cell_type": "code",
   "execution_count": 2,
   "metadata": {},
   "outputs": [],
   "source": [
    "# 源文件所在目录\n",
    "source_folder = 'three_kingdoms/source'\n",
    "segment_folder = 'three_kingdoms/segment'"
   ]
  },
  {
   "cell_type": "code",
   "execution_count": 3,
   "metadata": {},
   "outputs": [],
   "source": [
    "# 字词分割, 对整个文件内容进行字词分割\n",
    "def segment_lines(file_list, segment_out_dir, stopwords=[]):\n",
    "    for i, file in enumerate(file_list):\n",
    "        segment_out_name = os.path.join(segment_out_dir, 'segment_{}.txt'.format(i))\n",
    "        with open(file, 'rb') as f:\n",
    "            document = f.read()\n",
    "            document_cut = jieba.cut(document)\n",
    "            sentence_segment=[]\n",
    "            for word in document_cut:\n",
    "                if word not in stopwords:\n",
    "                    sentence_segment.append(word)\n",
    "            result = ' '.join(sentence_segment)\n",
    "            result = result.encode('utf-8')\n",
    "            with open(segment_out_name, 'wb') as f2:\n",
    "                f2.write(result)"
   ]
  },
  {
   "cell_type": "code",
   "execution_count": 4,
   "metadata": {},
   "outputs": [
    {
     "name": "stderr",
     "output_type": "stream",
     "text": "Building prefix dict from the default dictionary ...\nLoading model from cache C:\\Users\\Public\\Documents\\Wondershare\\CreatorTemp\\jieba.cache\nLoading model cost 0.597 seconds.\nPrefix dict has been built successfully.\n"
    }
   ],
   "source": [
    "# 对source中的txt文件进行分词, 输出到segment目录中\n",
    "file_list = files_processing.get_files_list(source_folder, postfix='*.txt')\n",
    "segment_lines(file_list, segment_folder)"
   ]
  },
  {
   "cell_type": "code",
   "execution_count": 5,
   "metadata": {},
   "outputs": [],
   "source": [
    "# 如果目录中有多个文件,可以使用PathLineSentences\n",
    "segment_folder = 'three_kingdoms/segment'\n",
    "sentences = word2vec.PathLineSentences(segment_folder)"
   ]
  },
  {
   "cell_type": "code",
   "execution_count": 6,
   "metadata": {},
   "outputs": [
    {
     "name": "stdout",
     "output_type": "stream",
     "text": "[('韩福', 0.994147002696991), ('孙权', 0.9941145181655884), ('大惊', 0.9934529662132263), ('关公', 0.9929211735725403), ('逵', 0.9922747015953064), ('陈宫', 0.992146909236908), ('忠', 0.991943359375), ('孔明', 0.9916349053382874), ('乔国老', 0.9909031391143799), ('不得不', 0.9908053874969482)]\n"
    }
   ],
   "source": [
    "model = word2vec.Word2Vec(sentences, size=100, window=3, min_count=1)\n",
    "print(model.wv.most_similar(positive=['曹操'], topn=10))"
   ]
  },
  {
   "cell_type": "code",
   "execution_count": 7,
   "metadata": {},
   "outputs": [
    {
     "name": "stdout",
     "output_type": "stream",
     "text": "[('不然', 0.9946526885032654), ('臣', 0.9943947196006775), ('差矣', 0.9941360950469971), ('主公', 0.9935356378555298), ('艾', 0.9934970736503601), ('何不', 0.9933817982673645), ('将军', 0.993255078792572), ('霸', 0.9929862022399902), ('童子', 0.9925644993782043), ('贤弟', 0.9923990368843079)]\n"
    }
   ],
   "source": [
    "print(model.wv.most_similar(positive=['曹操','刘备'], negative=['张飞']))"
   ]
  },
  {
   "cell_type": "code",
   "execution_count": null,
   "metadata": {},
   "outputs": [],
   "source": []
  }
 ]
}