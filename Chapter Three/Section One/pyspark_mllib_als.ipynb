{
 "nbformat": 4,
 "nbformat_minor": 2,
 "metadata": {
  "language_info": {
   "name": "python",
   "codemirror_mode": {
    "name": "ipython",
    "version": 3
   },
   "version": "3.7.4-final"
  },
  "orig_nbformat": 2,
  "file_extension": ".py",
  "mimetype": "text/x-python",
  "name": "python",
  "npconvert_exporter": "python",
  "pygments_lexer": "ipython3",
  "version": 3,
  "kernelspec": {
   "name": "python37464bitbaseconda68d4c1b18059495ab3f7b8c839aeb166",
   "display_name": "Python 3.7.4 64-bit ('base': conda)"
  }
 },
 "cells": [
  {
   "cell_type": "code",
   "execution_count": 1,
   "metadata": {},
   "outputs": [],
   "source": [
    "import findspark\n",
    "findspark.init('D:\\software\\Spark\\spark-3.0.0-preview2-bin-hadoop3.2') #这个args要指明SPARK_HOME 例如:findspark.init(\"/usr/local/spark\")\n",
    "# from pyspark.sql import SparkSession\n",
    "# sc=SparkSession.builder.appName(\"new_spark\").config(\"spark.executor.memory\",\"2g\").config(\"spark.executor.cores\",\"4\").config(\"spark.exector.instances\",\"1\").getOrCreate()"
   ]
  },
  {
   "cell_type": "code",
   "execution_count": 2,
   "metadata": {},
   "outputs": [],
   "source": [
    "# 使用pyspark-ALS进行矩阵分解\n",
    "from pyspark import SparkContext\n",
    "from pyspark.mllib.recommendation import ALS"
   ]
  },
  {
   "cell_type": "code",
   "execution_count": 3,
   "metadata": {},
   "outputs": [
    {
     "name": "stdout",
     "output_type": "stream",
     "text": "使用Spark-ALS算法\n100004\n1,31,2.5,1260759144\n"
    }
   ],
   "source": [
    "print('使用Spark-ALS算法')\n",
    "sc = SparkContext('local', 'MovieRec')\n",
    "rawUserData = temp = sc.textFile('ratings_small_without_header.csv')\n",
    "print(rawUserData.count())\n",
    "print(rawUserData.first())"
   ]
  },
  {
   "cell_type": "code",
   "execution_count": 4,
   "metadata": {},
   "outputs": [
    {
     "name": "stdout",
     "output_type": "stream",
     "text": "[['1', '31', '2.5'], ['1', '1029', '3.0'], ['1', '1061', '3.0'], ['1', '1129', '2.0'], ['1', '1172', '4.0']]\n"
    }
   ],
   "source": [
    "rawRatings = rawUserData.map(lambda line: line.split(',')[:3])\n",
    "print(rawRatings.take(5))\n",
    "training_RDD = rawRatings.map(lambda x: (x[0], x[1], x[2]))"
   ]
  },
  {
   "cell_type": "code",
   "execution_count": 5,
   "metadata": {},
   "outputs": [
    {
     "name": "stdout",
     "output_type": "stream",
     "text": "[Rating(user=100, product=67504, rating=5.61383724956478), Rating(user=100, product=83359, rating=5.61383724956478), Rating(user=100, product=83411, rating=5.61383724956478), Rating(user=100, product=83318, rating=5.61383724956478), Rating(user=100, product=3216, rating=5.40984140528023)]\n"
    }
   ],
   "source": [
    "# 模型训练\n",
    "rank = 3\n",
    "model = ALS.train(training_RDD, rank, seed=5, iterations=10, lambda_=0.1)\n",
    "# 针对user_id = 100的用户进行Top-N推荐\n",
    "print(model.recommendProducts(100, 5))"
   ]
  },
  {
   "cell_type": "code",
   "execution_count": null,
   "metadata": {},
   "outputs": [],
   "source": []
  }
 ]
}