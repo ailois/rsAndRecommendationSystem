{
 "nbformat": 4,
 "nbformat_minor": 2,
 "metadata": {
  "language_info": {
   "name": "python",
   "codemirror_mode": {
    "name": "ipython",
    "version": 3
   },
   "version": "3.7.4-final"
  },
  "orig_nbformat": 2,
  "file_extension": ".py",
  "mimetype": "text/x-python",
  "name": "python",
  "npconvert_exporter": "python",
  "pygments_lexer": "ipython3",
  "version": 3,
  "kernelspec": {
   "name": "python37464bitbaseconda68d4c1b18059495ab3f7b8c839aeb166",
   "display_name": "Python 3.7.4 64-bit ('base': conda)"
  }
 },
 "cells": [
  {
   "cell_type": "code",
   "execution_count": 1,
   "metadata": {},
   "outputs": [],
   "source": [
    "# 从丁香园接口获取整体数据\n",
    "import requests\n",
    "import json\n",
    "import time\n",
    "import pandas as pd"
   ]
  },
  {
   "cell_type": "code",
   "execution_count": 2,
   "metadata": {},
   "outputs": [],
   "source": [
    "# 获取HTML文本\n",
    "def get_html_text(url):\n",
    "    try:\n",
    "        res = requests.get(url,timeout = 30)\n",
    "        res.raise_for_status()\n",
    "        res.encoding = res.apparent_encoding\n",
    "        return res.text\n",
    "    except:\n",
    "        return \"Error\""
   ]
  },
  {
   "cell_type": "code",
   "execution_count": 3,
   "metadata": {},
   "outputs": [],
   "source": [
    "# 将timestamp转换为日期类型\n",
    "def timestamp_to_date(timestamp, format_string=\"%Y-%m-%d\"):\n",
    "    time_array = time.localtime(timestamp)\n",
    "    str_date = time.strftime(format_string, time_array)\n",
    "    return str_date"
   ]
  },
  {
   "cell_type": "code",
   "execution_count": 4,
   "metadata": {},
   "outputs": [],
   "source": [
    "# 从row中得到数据\n",
    "def get_data_from_row(row, province, city, updateTime):\n",
    "    confirmedCount = row['confirmedCount']\n",
    "    confirmedCount = row['confirmedCount']\n",
    "    suspectedCount = row['suspectedCount']\n",
    "    curedCount = row['curedCount']\n",
    "    deadCount = row['deadCount']\n",
    "    temp_dict = {'province': province, 'city': city, 'updateTime': updateTime, 'confirmedCount': confirmedCount, 'suspectedCount': suspectedCount, 'curedCount': curedCount, 'deadCount': deadCount}\n",
    "    return temp_dict"
   ]
  },
  {
   "cell_type": "code",
   "execution_count": 5,
   "metadata": {},
   "outputs": [],
   "source": [
    "# 返回某个省份下面所有城市的数据\n",
    "def get_data_from_cities(results, province, updateTime):\n",
    "    data = []\n",
    "    for row in results:\n",
    "        print(row)\n",
    "        cityName = row['cityName']\n",
    "        temp_dict = get_data_from_row(row, province, cityName, updateTime)\n",
    "        data.append(temp_dict)\n",
    "    return data        \n",
    "    #df = pd.DataFrame(data)\n",
    "    #clean_df = df.drop_duplicates(['province', 'city', 'updateTime'], keep = 'first')\n",
    "    #return clean_df.values.tolist()"
   ]
  },
  {
   "cell_type": "code",
   "execution_count": 6,
   "metadata": {},
   "outputs": [],
   "source": [
    "# 得到指定的省份数据\n",
    "def get_data_from_province(province = '全国'):\n",
    "    if province == '全国':\n",
    "        page_url = \"https://lab.isaaclin.cn/nCoV/api/overall?latest=0\"\n",
    "    else:\n",
    "        page_url = 'https://lab.isaaclin.cn/nCoV/api/area?latest=0&province=' + province\n",
    "\n",
    "    data = []\n",
    "    text = get_html_text(page_url)\n",
    "    results = json.loads(text)['results']\n",
    "    for row in results:\n",
    "        if 'updateTime' in row:\n",
    "            updateTime = timestamp_to_date(row['updateTime'] / 1000)\n",
    "        else:\n",
    "            updateTime = timestamp_to_date(row['modifyTime'] / 1000)\n",
    "        temp_dict = get_data_from_row(row, province, province, updateTime)\n",
    "        data.append(temp_dict)\n",
    "\n",
    "        if 'cities' in row and len(row['cities']) > 0:\n",
    "            result2 = row['cities']\n",
    "            print(type(result2))\n",
    "            print(result2)\n",
    "\n",
    "            df = get_data_from_cities(result2, province, updateTime)\n",
    "            data.extend(df)\n",
    "            #print(df)\n",
    "            \n",
    "            #df = get_data(row, province, city=False)\n",
    "\n",
    "    df = pd.DataFrame(data)\n",
    "    print(df)\n",
    "    clean_df = df.drop_duplicates(['province', 'city', 'updateTime'], keep = 'first')\n",
    "    #return df\n",
    "    return clean_df"
   ]
  },
  {
   "cell_type": "code",
   "execution_count": 7,
   "metadata": {},
   "outputs": [],
   "source": [
    "def get_province_name():\n",
    "    #获取Json\n",
    "    page_url = \"https://lab.isaaclin.cn/nCoV/api/provinceName\"\n",
    "    text = get_html_text(page_url)\n",
    "    province_list = json.loads(text)[\"results\"]\n",
    "    return province_list"
   ]
  },
  {
   "cell_type": "code",
   "execution_count": 8,
   "metadata": {},
   "outputs": [],
   "source": [
    "province_list = get_province_name()\n",
    "# 得到全国的总统计数据\n",
    "result = get_data_from_province()"
   ]
  },
  {
   "cell_type": "code",
   "execution_count": 11,
   "metadata": {},
   "outputs": [
    {
     "name": "stdout",
     "output_type": "stream",
     "text": "edCount': 7, 'suspectedCount': 0, 'curedCount': 0, 'deadCount': 0, 'locationId': 310115, 'cityEnglishName': 'Pudong District'}, {'cityName': '长宁区', 'confirmedCount': 5, 'suspectedCount': 0, 'curedCount': 0, 'deadCount': 0, 'locationId': 310105, 'cityEnglishName': 'Changning District'}, {'cityName': '静安区', 'confirmedCount': 5, 'suspectedCount': 0, 'curedCount': 0, 'deadCount': 0, 'locationId': 310106, 'cityEnglishName': \"Jing'an District\"}, {'cityName': '徐汇区', 'confirmedCount': 3, 'suspectedCount': 0, 'curedCount': 0, 'deadCount': 0, 'locationId': 310104, 'cityEnglishName': 'Xuhui District'}, {'cityName': '虹口区', 'confirmedCount': 2, 'suspectedCount': 0, 'curedCount': 0, 'deadCount': 0, 'locationId': 310109, 'cityEnglishName': 'Hongkou District'}, {'cityName': '闵行区', 'confirmedCount': 2, 'suspectedCount': 0, 'curedCount': 0, 'deadCount': 0, 'locationId': 310112, 'cityEnglishName': 'Minhang District'}, {'cityName': '青浦区', 'confirmedCount': 2, 'suspectedCount': 0, 'curedCount': 0, 'deadCount': 0, 'locationId': 310118, 'cityEnglishName': 'Qingpu District'}, {'cityName': '黄浦区', 'confirmedCount': 1, 'suspectedCount': 0, 'curedCount': 0, 'deadCount': 0, 'locationId': 310101, 'cityEnglishName': 'Huangpu District'}, {'cityName': '宝山区', 'confirmedCount': 1, 'suspectedCount': 0, 'curedCount': 0, 'deadCount': 0, 'locationId': 310113, 'cityEnglishName': 'Baoshan District'}, {'cityName': '嘉定区', 'confirmedCount': 1, 'suspectedCount': 0, 'curedCount': 0, 'deadCount': 0, 'locationId': 310114, 'cityEnglishName': 'Jiading District'}, {'cityName': '奉贤区', 'confirmedCount': 1, 'suspectedCount': 0, 'curedCount': 0, 'deadCount': 0, 'locationId': 310120, 'cityEnglishName': 'Fengxian District'}]\n{'cityName': '外地来沪人员', 'confirmedCount': 23, 'suspectedCount': 0, 'curedCount': 3, 'deadCount': 0, 'locationId': -1, 'cityEnglishName': 'People from other cities'}\n{'cityName': '浦东新区', 'confirmedCount': 7, 'suspectedCount': 0, 'curedCount': 0, 'deadCount': 0, 'locationId': 310115, 'cityEnglishName': 'Pudong District'}\n{'cityName': '长宁区', 'confirmedCount': 5, 'suspectedCount': 0, 'curedCount': 0, 'deadCount': 0, 'locationId': 310105, 'cityEnglishName': 'Changning District'}\n{'cityName': '静安区', 'confirmedCount': 5, 'suspectedCount': 0, 'curedCount': 0, 'deadCount': 0, 'locationId': 310106, 'cityEnglishName': \"Jing'an District\"}\n{'cityName': '徐汇区', 'confirmedCount': 3, 'suspectedCount': 0, 'curedCount': 0, 'deadCount': 0, 'locationId': 310104, 'cityEnglishName': 'Xuhui District'}\n{'cityName': '虹口区', 'confirmedCount': 2, 'suspectedCount': 0, 'curedCount': 0, 'deadCount': 0, 'locationId': 310109, 'cityEnglishName': 'Hongkou District'}\n{'cityName': '闵行区', 'confirmedCount': 2, 'suspectedCount': 0, 'curedCount': 0, 'deadCount': 0, 'locationId': 310112, 'cityEnglishName': 'Minhang District'}\n{'cityName': '青浦区', 'confirmedCount': 2, 'suspectedCount': 0, 'curedCount': 0, 'deadCount': 0, 'locationId': 310118, 'cityEnglishName': 'Qingpu District'}\n{'cityName': '黄浦区', 'confirmedCount': 1, 'suspectedCount': 0, 'curedCount': 0, 'deadCount': 0, 'locationId': 310101, 'cityEnglishName': 'Huangpu District'}\n{'cityName': '宝山区', 'confirmedCount': 1, 'suspectedCount': 0, 'curedCount': 0, 'deadCount': 0, 'locationId': 310113, 'cityEnglishName': 'Baoshan District'}\n{'cityName': '嘉定区', 'confirmedCount': 1, 'suspectedCount': 0, 'curedCount': 0, 'deadCount': 0, 'locationId': 310114, 'cityEnglishName': 'Jiading District'}\n{'cityName': '奉贤区', 'confirmedCount': 1, 'suspectedCount': 0, 'curedCount': 0, 'deadCount': 0, 'locationId': 310120, 'cityEnglishName': 'Fengxian District'}\n<class 'list'>\n[{'cityName': '外地来沪人员', 'confirmedCount': 23, 'suspectedCount': 0, 'curedCount': 3, 'deadCount': 0, 'locationId': -1, 'cityEnglishName': 'People from other cities'}, {'cityName': '浦东新区', 'confirmedCount': 7, 'suspectedCount': 0, 'curedCount': 0, 'deadCount': 0, 'locationId': 310115, 'cityEnglishName': 'Pudong District'}, {'cityName': '长宁区', 'confirmedCount': 5, 'suspectedCount': 0, 'curedCount': 0, 'deadCount': 0, 'locationId': 310105, 'cityEnglishName': 'Changning District'}, {'cityName': '静安区', 'confirmedCount': 5, 'suspectedCount': 0, 'curedCount': 0, 'deadCount': 0, 'locationId': 310106, 'cityEnglishName': \"Jing'an District\"}, {'cityName': '徐汇区', 'confirmedCount': 3, 'suspectedCount': 0, 'curedCount': 0, 'deadCount': 0, 'locationId': 310104, 'cityEnglishName': 'Xuhui District'}, {'cityName': '虹口区', 'confirmedCount': 2, 'suspectedCount': 0, 'curedCount': 0, 'deadCount': 0, 'locationId': 310109, 'cityEnglishName': 'Hongkou District'}, {'cityName': '闵行区', 'confirmedCount': 2, 'suspectedCount': 0, 'curedCount': 0, 'deadCount': 0, 'locationId': 310112, 'cityEnglishName': 'Minhang District'}, {'cityName': '青浦区', 'confirmedCount': 2, 'suspectedCount': 0, 'curedCount': 0, 'deadCount': 0, 'locationId': 310118, 'cityEnglishName': 'Qingpu District'}, {'cityName': '黄浦区', 'confirmedCount': 1, 'suspectedCount': 0, 'curedCount': 0, 'deadCount': 0, 'locationId': 310101, 'cityEnglishName': 'Huangpu District'}, {'cityName': '宝山区', 'confirmedCount': 1, 'suspectedCount': 0, 'curedCount': 0, 'deadCount': 0, 'locationId': 310113, 'cityEnglishName': 'Baoshan District'}, {'cityName': '嘉定区', 'confirmedCount': 1, 'suspectedCount': 0, 'curedCount': 0, 'deadCount': 0, 'locationId': 310114, 'cityEnglishName': 'Jiading District'}, {'cityName': '奉贤区', 'confirmedCount': 1, 'suspectedCount': 0, 'curedCount': 0, 'deadCount': 0, 'locationId': 310120, 'cityEnglishName': 'Fengxian District'}]\n{'cityName': '外地来沪人员', 'confirmedCount': 23, 'suspectedCount': 0, 'curedCount': 3, 'deadCount': 0, 'locationId': -1, 'cityEnglishName': 'People from other cities'}\n{'cityName': '浦东新区', 'confirmedCount': 7, 'suspectedCount': 0, 'curedCount': 0, 'deadCount': 0, 'locationId': 310115, 'cityEnglishName': 'Pudong District'}\n{'cityName': '长宁区', 'confirmedCount': 5, 'suspectedCount': 0, 'curedCount': 0, 'deadCount': 0, 'locationId': 310105, 'cityEnglishName': 'Changning District'}\n{'cityName': '静安区', 'confirmedCount': 5, 'suspectedCount': 0, 'curedCount': 0, 'deadCount': 0, 'locationId': 310106, 'cityEnglishName': \"Jing'an District\"}\n{'cityName': '徐汇区', 'confirmedCount': 3, 'suspectedCount': 0, 'curedCount': 0, 'deadCount': 0, 'locationId': 310104, 'cityEnglishName': 'Xuhui District'}\n{'cityName': '虹口区', 'confirmedCount': 2, 'suspectedCount': 0, 'curedCount': 0, 'deadCount': 0, 'locationId': 310109, 'cityEnglishName': 'Hongkou District'}\n{'cityName': '闵行区', 'confirmedCount': 2, 'suspectedCount': 0, 'curedCount': 0, 'deadCount': 0, 'locationId': 310112, 'cityEnglishName': 'Minhang District'}\n{'cityName': '青浦区', 'confirmedCount': 2, 'suspectedCount': 0, 'curedCount': 0, 'deadCount': 0, 'locationId': 310118, 'cityEnglishName': 'Qingpu District'}\n{'cityName': '黄浦区', 'confirmedCount': 1, 'suspectedCount': 0, 'curedCount': 0, 'deadCount': 0, 'locationId': 310101, 'cityEnglishName': 'Huangpu District'}\n{'cityName': '宝山区', 'confirmedCount': 1, 'suspectedCount': 0, 'curedCount': 0, 'deadCount': 0, 'locationId': 310113, 'cityEnglishName': 'Baoshan District'}\n{'cityName': '嘉定区', 'confirmedCount': 1, 'suspectedCount': 0, 'curedCount': 0, 'deadCount': 0, 'locationId': 310114, 'cityEnglishName': 'Jiading District'}\n{'cityName': '奉贤区', 'confirmedCount': 1, 'suspectedCount': 0, 'curedCount': 0, 'deadCount': 0, 'locationId': 310120, 'cityEnglishName': 'Fengxian District'}\n<class 'list'>\n[{'cityName': '外地来沪人员', 'confirmedCount': 23, 'suspectedCount': 0, 'curedCount': 2, 'deadCount': 0, 'locationId': -1, 'cityEnglishName': 'People from other cities'}, {'cityName': '浦东新区', 'confirmedCount': 7, 'suspectedCount': 0, 'curedCount': 0, 'deadCount': 0, 'locationId': 310115, 'cityEnglishName': 'Pudong District'}, {'cityName': '长宁区', 'confirmedCount': 5, 'suspectedCount': 0, 'curedCount': 0, 'deadCount': 0, 'locationId': 310105, 'cityEnglishName': 'Changning District'}, {'cityName': '静安区', 'confirmedCount': 5, 'suspectedCount': 0, 'curedCount': 0, 'deadCount': 0, 'locationId': 310106, 'cityEnglishName': \"Jing'an District\"}, {'cityName': '徐汇区', 'confirmedCount': 3, 'suspectedCount': 0, 'curedCount': 0, 'deadCount': 0, 'locationId': 310104, 'cityEnglishName': 'Xuhui District'}, {'cityName': '虹口区', 'confirmedCount': 2, 'suspectedCount': 0, 'curedCount': 0, 'deadCount': 0, 'locationId': 310109, 'cityEnglishName': 'Hongkou District'}, {'cityName': '闵行区', 'confirmedCount': 2, 'suspectedCount': 0, 'curedCount': 0, 'deadCount': 0, 'locationId': 310112, 'cityEnglishName': 'Minhang District'}, {'cityName': '青浦区', 'confirmedCount': 2, 'suspectedCount': 0, 'curedCount': 0, 'deadCount': 0, 'locationId': 310118, 'cityEnglishName': 'Qingpu District'}, {'cityName': '黄浦区', 'confirmedCount': 1, 'suspectedCount': 0, 'curedCount': 0, 'deadCount': 0, 'locationId': 310101, 'cityEnglishName': 'Huangpu District'}, {'cityName': '宝山区', 'confirmedCount': 1, 'suspectedCount': 0, 'curedCount': 0, 'deadCount': 0, 'locationId': 310113, 'cityEnglishName': 'Baoshan District'}, {'cityName': '嘉定区', 'confirmedCount': 1, 'suspectedCount': 0, 'curedCount': 0, 'deadCount': 0, 'locationId': 310114, 'cityEnglishName': 'Jiading District'}, {'cityName': '奉贤区', 'confirmedCount': 1, 'suspectedCount': 0, 'curedCount': 0, 'deadCount': 0, 'locationId': 310120, 'cityEnglishName': 'Fengxian District'}]\n{'cityName': '外地来沪人员', 'confirmedCount': 23, 'suspectedCount': 0, 'curedCount': 2, 'deadCount': 0, 'locationId': -1, 'cityEnglishName': 'People from other cities'}\n{'cityName': '浦东新区', 'confirmedCount': 7, 'suspectedCount': 0, 'curedCount': 0, 'deadCount': 0, 'locationId': 310115, 'cityEnglishName': 'Pudong District'}\n{'cityName': '长宁区', 'confirmedCount': 5, 'suspectedCount': 0, 'curedCount': 0, 'deadCount': 0, 'locationId': 310105, 'cityEnglishName': 'Changning District'}\n{'cityName': '静安区', 'confirmedCount': 5, 'suspectedCount': 0, 'curedCount': 0, 'deadCount': 0, 'locationId': 310106, 'cityEnglishName': \"Jing'an District\"}\n{'cityName': '徐汇区', 'confirmedCount': 3, 'suspectedCount': 0, 'curedCount': 0, 'deadCount': 0, 'locationId': 310104, 'cityEnglishName': 'Xuhui District'}\n{'cityName': '虹口区', 'confirmedCount': 2, 'suspectedCount': 0, 'curedCount': 0, 'deadCount': 0, 'locationId': 310109, 'cityEnglishName': 'Hongkou District'}\n{'cityName': '闵行区', 'confirmedCount': 2, 'suspectedCount': 0, 'curedCount': 0, 'deadCount': 0, 'locationId': 310112, 'cityEnglishName': 'Minhang District'}\n{'cityName': '青浦区', 'confirmedCount': 2, 'suspectedCount': 0, 'curedCount': 0, 'deadCount': 0, 'locationId': 310118, 'cityEnglishName': 'Qingpu District'}\n{'cityName': '黄浦区', 'confirmedCount': 1, 'suspectedCount': 0, 'curedCount': 0, 'deadCount': 0, 'locationId': 310101, 'cityEnglishName': 'Huangpu District'}\n{'cityName': '宝山区', 'confirmedCount': 1, 'suspectedCount': 0, 'curedCount': 0, 'deadCount': 0, 'locationId': 310113, 'cityEnglishName': 'Baoshan District'}\n{'cityName': '嘉定区', 'confirmedCount': 1, 'suspectedCount': 0, 'curedCount': 0, 'deadCount': 0, 'locationId': 310114, 'cityEnglishName': 'Jiading District'}\n{'cityName': '奉贤区', 'confirmedCount': 1, 'suspectedCount': 0, 'curedCount': 0, 'deadCount': 0, 'locationId': 310120, 'cityEnglishName': 'Fengxian District'}\n<class 'list'>\n[{'cityName': '外地来沪人员', 'confirmedCount': 23, 'suspectedCount': 0, 'curedCount': 0, 'deadCount': 0, 'locationId': -1, 'cityEnglishName': 'People from other cities'}, {'cityName': '浦东新区', 'confirmedCount': 7, 'suspectedCount': 0, 'curedCount': 0, 'deadCount': 0, 'locationId': 310115, 'cityEnglishName': 'Pudong District'}, {'cityName': '长宁区', 'confirmedCount': 5, 'suspectedCount': 0, 'curedCount': 0, 'deadCount': 0, 'locationId': 310105, 'cityEnglishName': 'Changning District'}, {'cityName': '静安区', 'confirmedCount': 5, 'suspectedCount': 0, 'curedCount': 0, 'deadCount': 0, 'locationId': 310106, 'cityEnglishName': \"Jing'an District\"}, {'cityName': '徐汇区', 'confirmedCount': 3, 'suspectedCount': 0, 'curedCount': 0, 'deadCount': 0, 'locationId': 310104, 'cityEnglishName': 'Xuhui District'}, {'cityName': '虹口区', 'confirmedCount': 2, 'suspectedCount': 0, 'curedCount': 0, 'deadCount': 0, 'locationId': 310109, 'cityEnglishName': 'Hongkou District'}, {'cityName': '闵行区', 'confirmedCount': 2, 'suspectedCount': 0, 'curedCount': 0, 'deadCount': 0, 'locationId': 310112, 'cityEnglishName': 'Minhang District'}, {'cityName': '青浦区', 'confirmedCount': 2, 'suspectedCount': 0, 'curedCount': 0, 'deadCount': 0, 'locationId': 310118, 'cityEnglishName': 'Qingpu District'}, {'cityName': '黄浦区', 'confirmedCount': 1, 'suspectedCount': 0, 'curedCount': 0, 'deadCount': 0, 'locationId': 310101, 'cityEnglishName': 'Huangpu District'}, {'cityName': '宝山区', 'confirmedCount': 1, 'suspectedCount': 0, 'curedCount': 0, 'deadCount': 0, 'locationId': 310113, 'cityEnglishName': 'Baoshan District'}, {'cityName': '嘉定区', 'confirmedCount': 1, 'suspectedCount': 0, 'curedCount': 0, 'deadCount': 0, 'locationId': 310114, 'cityEnglishName': 'Jiading District'}, {'cityName': '奉贤区', 'confirmedCount': 1, 'suspectedCount': 0, 'curedCount': 0, 'deadCount': 0, 'locationId': 310120, 'cityEnglishName': 'Fengxian District'}]\n{'cityName': '外地来沪人员', 'confirmedCount': 23, 'suspectedCount': 0, 'curedCount': 0, 'deadCount': 0, 'locationId': -1, 'cityEnglishName': 'People from other cities'}\n{'cityName': '浦东新区', 'confirmedCount': 7, 'suspectedCount': 0, 'curedCount': 0, 'deadCount': 0, 'locationId': 310115, 'cityEnglishName': 'Pudong District'}\n{'cityName': '长宁区', 'confirmedCount': 5, 'suspectedCount': 0, 'curedCount': 0, 'deadCount': 0, 'locationId': 310105, 'cityEnglishName': 'Changning District'}\n{'cityName': '静安区', 'confirmedCount': 5, 'suspectedCount': 0, 'curedCount': 0, 'deadCount': 0, 'locationId': 310106, 'cityEnglishName': \"Jing'an District\"}\n{'cityName': '徐汇区', 'confirmedCount': 3, 'suspectedCount': 0, 'curedCount': 0, 'deadCount': 0, 'locationId': 310104, 'cityEnglishName': 'Xuhui District'}\n{'cityName': '虹口区', 'confirmedCount': 2, 'suspectedCount': 0, 'curedCount': 0, 'deadCount': 0, 'locationId': 310109, 'cityEnglishName': 'Hongkou District'}\n{'cityName': '闵行区', 'confirmedCount': 2, 'suspectedCount': 0, 'curedCount': 0, 'deadCount': 0, 'locationId': 310112, 'cityEnglishName': 'Minhang District'}\n{'cityName': '青浦区', 'confirmedCount': 2, 'suspectedCount': 0, 'curedCount': 0, 'deadCount': 0, 'locationId': 310118, 'cityEnglishName': 'Qingpu District'}\n{'cityName': '黄浦区', 'confirmedCount': 1, 'suspectedCount': 0, 'curedCount': 0, 'deadCount': 0, 'locationId': 310101, 'cityEnglishName': 'Huangpu District'}\n{'cityName': '宝山区', 'confirmedCount': 1, 'suspectedCount': 0, 'curedCount': 0, 'deadCount': 0, 'locationId': 310113, 'cityEnglishName': 'Baoshan District'}\n{'cityName': '嘉定区', 'confirmedCount': 1, 'suspectedCount': 0, 'curedCount': 0, 'deadCount': 0, 'locationId': 310114, 'cityEnglishName': 'Jiading District'}\n{'cityName': '奉贤区', 'confirmedCount': 1, 'suspectedCount': 0, 'curedCount': 0, 'deadCount': 0, 'locationId': 310120, 'cityEnglishName': 'Fengxian District'}\n<class 'list'>\n[{'cityName': '浦东新区', 'confirmedCount': 7, 'suspectedCount': 0, 'curedCount': 0, 'deadCount': 0, 'locationId': 310115, 'cityEnglishName': 'Pudong District'}, {'cityName': '长宁区', 'confirmedCount': 5, 'suspectedCount': 0, 'curedCount': 0, 'deadCount': 0, 'locationId': 310105, 'cityEnglishName': 'Changning District'}, {'cityName': '静安区', 'confirmedCount': 5, 'suspectedCount': 0, 'curedCount': 0, 'deadCount': 0, 'locationId': 310106, 'cityEnglishName': \"Jing'an District\"}, {'cityName': '徐汇区', 'confirmedCount': 3, 'suspectedCount': 0, 'curedCount': 0, 'deadCount': 0, 'locationId': 310104, 'cityEnglishName': 'Xuhui District'}, {'cityName': '虹口区', 'confirmedCount': 2, 'suspectedCount': 0, 'curedCount': 0, 'deadCount': 0, 'locationId': 310109, 'cityEnglishName': 'Hongkou District'}, {'cityName': '闵行区', 'confirmedCount': 2, 'suspectedCount': 0, 'curedCount': 0, 'deadCount': 0, 'locationId': 310112, 'cityEnglishName': 'Minhang District'}, {'cityName': '青浦区', 'confirmedCount': 2, 'suspectedCount': 0, 'curedCount': 0, 'deadCount': 0, 'locationId': 310118, 'cityEnglishName': 'Qingpu District'}, {'cityName': '黄浦区', 'confirmedCount': 1, 'suspectedCount': 0, 'curedCount': 0, 'deadCount': 0, 'locationId': 310101, 'cityEnglishName': 'Huangpu District'}, {'cityName': '宝山区', 'confirmedCount': 1, 'suspectedCount': 0, 'curedCount': 0, 'deadCount': 0, 'locationId': 310113, 'cityEnglishName': 'Baoshan District'}]\n{'cityName': '浦东新区', 'confirmedCount': 7, 'suspectedCount': 0, 'curedCount': 0, 'deadCount': 0, 'locationId': 310115, 'cityEnglishName': 'Pudong District'}\n{'cityName': '长宁区', 'confirmedCount': 5, 'suspectedCount': 0, 'curedCount': 0, 'deadCount': 0, 'locationId': 310105, 'cityEnglishName': 'Changning District'}\n{'cityName': '静安区', 'confirmedCount': 5, 'suspectedCount': 0, 'curedCount': 0, 'deadCount': 0, 'locationId': 310106, 'cityEnglishName': \"Jing'an District\"}\n{'cityName': '徐汇区', 'confirmedCount': 3, 'suspectedCount': 0, 'curedCount': 0, 'deadCount': 0, 'locationId': 310104, 'cityEnglishName': 'Xuhui District'}\n{'cityName': '虹口区', 'confirmedCount': 2, 'suspectedCount': 0, 'curedCount': 0, 'deadCount': 0, 'locationId': 310109, 'cityEnglishName': 'Hongkou District'}\n{'cityName': '闵行区', 'confirmedCount': 2, 'suspectedCount': 0, 'curedCount': 0, 'deadCount': 0, 'locationId': 310112, 'cityEnglishName': 'Minhang District'}\n{'cityName': '青浦区', 'confirmedCount': 2, 'suspectedCount': 0, 'curedCount': 0, 'deadCount': 0, 'locationId': 310118, 'cityEnglishName': 'Qingpu District'}\n{'cityName': '黄浦区', 'confirmedCount': 1, 'suspectedCount': 0, 'curedCount': 0, 'deadCount': 0, 'locationId': 310101, 'cityEnglishName': 'Huangpu District'}\n{'cityName': '宝山区', 'confirmedCount': 1, 'suspectedCount': 0, 'curedCount': 0, 'deadCount': 0, 'locationId': 310113, 'cityEnglishName': 'Baoshan District'}\n<class 'list'>\n[{'cityName': '浦东新区', 'confirmedCount': 7, 'suspectedCount': 0, 'curedCount': 0, 'deadCount': 0, 'locationId': 310115, 'cityEnglishName': 'Pudong District'}, {'cityName': '长宁区', 'confirmedCount': 5, 'suspectedCount': 0, 'curedCount': 0, 'deadCount': 0, 'locationId': 310105, 'cityEnglishName': 'Changning District'}, {'cityName': '静安区', 'confirmedCount': 5, 'suspectedCount': 0, 'curedCount': 0, 'deadCount': 0, 'locationId': 310106, 'cityEnglishName': \"Jing'an District\"}, {'cityName': '徐汇区', 'confirmedCount': 3, 'suspectedCount': 0, 'curedCount': 0, 'deadCount': 0, 'locationId': 310104, 'cityEnglishName': 'Xuhui District'}]\n{'cityName': '浦东新区', 'confirmedCount': 7, 'suspectedCount': 0, 'curedCount': 0, 'deadCount': 0, 'locationId': 310115, 'cityEnglishName': 'Pudong District'}\n{'cityName': '长宁区', 'confirmedCount': 5, 'suspectedCount': 0, 'curedCount': 0, 'deadCount': 0, 'locationId': 310105, 'cityEnglishName': 'Changning District'}\n{'cityName': '静安区', 'confirmedCount': 5, 'suspectedCount': 0, 'curedCount': 0, 'deadCount': 0, 'locationId': 310106, 'cityEnglishName': \"Jing'an District\"}\n{'cityName': '徐汇区', 'confirmedCount': 3, 'suspectedCount': 0, 'curedCount': 0, 'deadCount': 0, 'locationId': 310104, 'cityEnglishName': 'Xuhui District'}\n<class 'list'>\n[{'cityName': '浦东新区', 'confirmedCount': 7, 'suspectedCount': 0, 'curedCount': 0, 'deadCount': 0, 'locationId': 310115, 'cityEnglishName': 'Pudong District'}, {'cityName': '长宁区', 'confirmedCount': 5, 'suspectedCount': 0, 'curedCount': 0, 'deadCount': 0, 'locationId': 310105, 'cityEnglishName': 'Changning District'}, {'cityName': '静安区', 'confirmedCount': 5, 'suspectedCount': 0, 'curedCount': 0, 'deadCount': 0, 'locationId': 310106, 'cityEnglishName': \"Jing'an District\"}]\n{'cityName': '浦东新区', 'confirmedCount': 7, 'suspectedCount': 0, 'curedCount': 0, 'deadCount': 0, 'locationId': 310115, 'cityEnglishName': 'Pudong District'}\n{'cityName': '长宁区', 'confirmedCount': 5, 'suspectedCount': 0, 'curedCount': 0, 'deadCount': 0, 'locationId': 310105, 'cityEnglishName': 'Changning District'}\n{'cityName': '静安区', 'confirmedCount': 5, 'suspectedCount': 0, 'curedCount': 0, 'deadCount': 0, 'locationId': 310106, 'cityEnglishName': \"Jing'an District\"}\n"
    },
    {
     "ename": "TypeError",
     "evalue": "object of type 'NoneType' has no len()",
     "output_type": "error",
     "traceback": [
      "\u001b[1;31m---------------------------------------------------------------------------\u001b[0m",
      "\u001b[1;31mTypeError\u001b[0m                                 Traceback (most recent call last)",
      "\u001b[1;32m<ipython-input-11-c280f201acb5>\u001b[0m in \u001b[0;36m<module>\u001b[1;34m\u001b[0m\n\u001b[0;32m      3\u001b[0m \u001b[1;31m# 得到每个省份的统计数据\u001b[0m\u001b[1;33m\u001b[0m\u001b[1;33m\u001b[0m\u001b[1;33m\u001b[0m\u001b[0m\n\u001b[0;32m      4\u001b[0m \u001b[1;32mfor\u001b[0m \u001b[0mprovince\u001b[0m \u001b[1;32min\u001b[0m \u001b[0mprovince_list\u001b[0m\u001b[1;33m:\u001b[0m\u001b[1;33m\u001b[0m\u001b[1;33m\u001b[0m\u001b[0m\n\u001b[1;32m----> 5\u001b[1;33m     \u001b[0mdf\u001b[0m \u001b[1;33m=\u001b[0m \u001b[0mget_data_from_province\u001b[0m\u001b[1;33m(\u001b[0m\u001b[0mprovince\u001b[0m\u001b[1;33m)\u001b[0m\u001b[1;33m\u001b[0m\u001b[1;33m\u001b[0m\u001b[0m\n\u001b[0m\u001b[0;32m      6\u001b[0m     \u001b[0mprint\u001b[0m\u001b[1;33m(\u001b[0m\u001b[0mdf\u001b[0m\u001b[1;33m)\u001b[0m\u001b[1;33m\u001b[0m\u001b[1;33m\u001b[0m\u001b[0m\n\u001b[0;32m      7\u001b[0m     \u001b[0mresult\u001b[0m \u001b[1;33m=\u001b[0m \u001b[0mpd\u001b[0m\u001b[1;33m.\u001b[0m\u001b[0mconcat\u001b[0m\u001b[1;33m(\u001b[0m\u001b[1;33m[\u001b[0m\u001b[0mresult\u001b[0m\u001b[1;33m,\u001b[0m \u001b[0mdf\u001b[0m\u001b[1;33m]\u001b[0m\u001b[1;33m)\u001b[0m\u001b[1;33m\u001b[0m\u001b[1;33m\u001b[0m\u001b[0m\n",
      "\u001b[1;32m<ipython-input-6-65bc502dcaa6>\u001b[0m in \u001b[0;36mget_data_from_province\u001b[1;34m(province)\u001b[0m\n\u001b[0;32m     17\u001b[0m         \u001b[0mdata\u001b[0m\u001b[1;33m.\u001b[0m\u001b[0mappend\u001b[0m\u001b[1;33m(\u001b[0m\u001b[0mtemp_dict\u001b[0m\u001b[1;33m)\u001b[0m\u001b[1;33m\u001b[0m\u001b[1;33m\u001b[0m\u001b[0m\n\u001b[0;32m     18\u001b[0m \u001b[1;33m\u001b[0m\u001b[0m\n\u001b[1;32m---> 19\u001b[1;33m         \u001b[1;32mif\u001b[0m \u001b[1;34m'cities'\u001b[0m \u001b[1;32min\u001b[0m \u001b[0mrow\u001b[0m \u001b[1;32mand\u001b[0m \u001b[0mlen\u001b[0m\u001b[1;33m(\u001b[0m\u001b[0mrow\u001b[0m\u001b[1;33m[\u001b[0m\u001b[1;34m'cities'\u001b[0m\u001b[1;33m]\u001b[0m\u001b[1;33m)\u001b[0m \u001b[1;33m>\u001b[0m \u001b[1;36m0\u001b[0m\u001b[1;33m:\u001b[0m\u001b[1;33m\u001b[0m\u001b[1;33m\u001b[0m\u001b[0m\n\u001b[0m\u001b[0;32m     20\u001b[0m             \u001b[0mresult2\u001b[0m \u001b[1;33m=\u001b[0m \u001b[0mrow\u001b[0m\u001b[1;33m[\u001b[0m\u001b[1;34m'cities'\u001b[0m\u001b[1;33m]\u001b[0m\u001b[1;33m\u001b[0m\u001b[1;33m\u001b[0m\u001b[0m\n\u001b[0;32m     21\u001b[0m             \u001b[0mprint\u001b[0m\u001b[1;33m(\u001b[0m\u001b[0mtype\u001b[0m\u001b[1;33m(\u001b[0m\u001b[0mresult2\u001b[0m\u001b[1;33m)\u001b[0m\u001b[1;33m)\u001b[0m\u001b[1;33m\u001b[0m\u001b[1;33m\u001b[0m\u001b[0m\n",
      "\u001b[1;31mTypeError\u001b[0m: object of type 'NoneType' has no len()"
     ]
    }
   ],
   "source": [
    "# 得到全国的总统计数据\n",
    "result = get_data_from_province()\n",
    "# 得到每个省份的统计数据\n",
    "for province in province_list:\n",
    "    df = get_data_from_province(province)\n",
    "    print(df)\n",
    "    result = pd.concat([result, df])\n",
    "result.to_csv('province_data.csv', index=False)"
   ]
  },
  {
   "cell_type": "code",
   "execution_count": null,
   "metadata": {},
   "outputs": [],
   "source": []
  }
 ]
}